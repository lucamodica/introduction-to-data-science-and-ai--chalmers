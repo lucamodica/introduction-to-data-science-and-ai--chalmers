{
 "cells": [
  {
   "cell_type": "markdown",
   "metadata": {
    "cell_id": "ad52a411e5cd441fa50d73700a2d8ca2",
    "deepnote_app_coordinates": {
     "h": 5,
     "w": 12,
     "x": 0,
     "y": 0
    },
    "deepnote_cell_type": "markdown"
   },
   "source": [
    "# DAT565 Assignment 1 – Group 43"
   ]
  },
  {
   "cell_type": "markdown",
   "metadata": {
    "cell_id": "66284e22820348779e9d91fc05ba942b",
    "deepnote_app_coordinates": {
     "h": 5,
     "w": 12,
     "x": 0,
     "y": 0
    },
    "deepnote_cell_type": "markdown"
   },
   "source": [
    "- Student 1 - Luca Modica - (5 hours)\n",
    "- Student 2 - Hugo Alves Henriques E Silva - (5 hours)\n",
    "- Student 3 - YenPo Lin - (5 hours)"
   ]
  },
  {
   "cell_type": "markdown",
   "metadata": {
    "cell_id": "6e0364b64f1840269f00c9b87dfdba48",
    "deepnote_app_coordinates": {
     "h": 2,
     "w": 8,
     "x": 0,
     "y": 0
    },
    "deepnote_cell_type": "text-cell-p",
    "formattedRanges": []
   },
   "source": [
    "September 1, 2023"
   ]
  },
  {
   "cell_type": "markdown",
   "metadata": {
    "cell_id": "4ddc2a1e90e94507b844f80d8cad2f32",
    "deepnote_app_coordinates": {
     "h": 5,
     "w": 12,
     "x": 0,
     "y": 0
    },
    "deepnote_cell_type": "markdown"
   },
   "source": [
    "---"
   ]
  },
  {
   "cell_type": "markdown",
   "metadata": {
    "cell_id": "e3521299bc94418fb985431241d132bf",
    "deepnote_app_coordinates": {
     "h": 5,
     "w": 12,
     "x": 0,
     "y": 0
    },
    "deepnote_cell_type": "text-cell-h2",
    "formattedRanges": []
   },
   "source": [
    "## Introduction"
   ]
  },
  {
   "cell_type": "markdown",
   "metadata": {
    "cell_id": "a00d9362afe24bed8616f7eff6d0afc8",
    "deepnote_app_coordinates": {
     "h": 5,
     "w": 12,
     "x": 0,
     "y": 0
    },
    "deepnote_cell_type": "markdown"
   },
   "source": [
    "In this assignment we have worked with datasets from [ourworldindata.org](https://ourworldindata.org/) and Python to produce thoughtful analyses and interesting visualizations. In particular, we have analysed 3 datasets aiming to 3 indicators represent a country:\n",
    "\n",
    "- **GDP**: Gross domestic product (GDP). The standard measure of the value added created through the production of goods and services in a country during a certain period [1].\n",
    "- **GDP per capita**: GDP divided by the midyear population [1].\n",
    "- **Life Expectancy at Birth**: estimate of the span of a life of a person at birth [2].\n",
    "\n",
    "The goal of the analyses is to visualize data to have a clearer understanding and answering 4 different questions to deepen the knowledge about those information."
   ]
  },
  {
   "cell_type": "markdown",
   "metadata": {
    "cell_id": "3ee4a97e9f424a409c901644e4b44c66",
    "deepnote_app_coordinates": {
     "h": 5,
     "w": 12,
     "x": 0,
     "y": 0
    },
    "deepnote_cell_type": "markdown"
   },
   "source": [
    "## Importing the libraries"
   ]
  },
  {
   "cell_type": "code",
   "execution_count": 1,
   "metadata": {
    "cell_id": "f48259a15fbc489eaa01f130cef6ec1e",
    "deepnote_app_coordinates": {
     "h": 5,
     "w": 12,
     "x": 0,
     "y": 0
    },
    "deepnote_app_is_code_hidden": false,
    "deepnote_cell_type": "code",
    "deepnote_to_be_reexecuted": false,
    "execution_millis": 1764,
    "execution_start": 1693584858497,
    "source_hash": "ee770706"
   },
   "outputs": [],
   "source": [
    "import numpy as np\n",
    "import pandas as pd\n",
    "import matplotlib.pyplot as plt\n",
    "import seaborn as sns\n",
    "\n",
    "# config inline plots\n",
    "%matplotlib inline\n",
    "\n",
    "# seT seaborn style\n",
    "sns.set_style('darkgrid')"
   ]
  },
  {
   "cell_type": "markdown",
   "metadata": {
    "cell_id": "a0a7bdcc2e984af08d7eac433c2dc481",
    "deepnote_app_coordinates": {
     "h": 5,
     "w": 12,
     "x": 0,
     "y": 0
    },
    "deepnote_cell_type": "markdown"
   },
   "source": [
    "## Importing the dataset sources"
   ]
  },
  {
   "cell_type": "markdown",
   "metadata": {
    "cell_id": "fa82e03adca142bbb1fefc1b78a04dc4",
    "deepnote_app_coordinates": {
     "h": 5,
     "w": 12,
     "x": 0,
     "y": 0
    },
    "deepnote_cell_type": "markdown"
   },
   "source": [
    "Before diving deep into the data analysis of data we will import the 3 datasets, one for each each feature: GDP per capita, life expectancy and GDP. We will also check out the head of each dataframe to actually check for their data integrity."
   ]
  },
  {
   "cell_type": "code",
   "execution_count": 2,
   "metadata": {
    "cell_id": "1c878892dc2d463ca90ce9198d5639a6",
    "deepnote_app_coordinates": {
     "h": 5,
     "w": 12,
     "x": 0,
     "y": 0
    },
    "deepnote_app_is_code_hidden": false,
    "deepnote_cell_type": "code",
    "deepnote_to_be_reexecuted": false,
    "execution_millis": 299,
    "execution_start": 1693584860279,
    "source_hash": "200bea79"
   },
   "outputs": [
    {
     "data": {
      "application/vnd.deepnote.dataframe.v3+json": {
       "column_count": 4,
       "columns": [
        {
         "dtype": "object",
         "name": "Entity",
         "stats": {
          "categories": [
           {
            "count": 5,
            "name": "Albania"
           }
          ],
          "nan_count": 0,
          "unique_count": 1
         }
        },
        {
         "dtype": "object",
         "name": "Code",
         "stats": {
          "categories": [
           {
            "count": 5,
            "name": "ALB"
           }
          ],
          "nan_count": 0,
          "unique_count": 1
         }
        },
        {
         "dtype": "int64",
         "name": "Year",
         "stats": {
          "histogram": [
           {
            "bin_end": 1970.4,
            "bin_start": 1970,
            "count": 1
           },
           {
            "bin_end": 1970.8,
            "bin_start": 1970.4,
            "count": 0
           },
           {
            "bin_end": 1971.2,
            "bin_start": 1970.8,
            "count": 1
           },
           {
            "bin_end": 1971.6,
            "bin_start": 1971.2,
            "count": 0
           },
           {
            "bin_end": 1972,
            "bin_start": 1971.6,
            "count": 0
           },
           {
            "bin_end": 1972.4,
            "bin_start": 1972,
            "count": 1
           },
           {
            "bin_end": 1972.8,
            "bin_start": 1972.4,
            "count": 0
           },
           {
            "bin_end": 1973.2,
            "bin_start": 1972.8,
            "count": 1
           },
           {
            "bin_end": 1973.6,
            "bin_start": 1973.2,
            "count": 0
           },
           {
            "bin_end": 1974,
            "bin_start": 1973.6,
            "count": 1
           }
          ],
          "max": "1974",
          "min": "1970",
          "nan_count": 0,
          "unique_count": 5
         }
        },
        {
         "dtype": "float64",
         "name": "GDP per capita (output, multiple price benchmarks)",
         "stats": {
          "histogram": [
           {
            "bin_end": 3135.68664,
            "bin_start": 3114.0884,
            "count": 1
           },
           {
            "bin_end": 3157.28488,
            "bin_start": 3135.68664,
            "count": 0
           },
           {
            "bin_end": 3178.88312,
            "bin_start": 3157.28488,
            "count": 1
           },
           {
            "bin_end": 3200.48136,
            "bin_start": 3178.88312,
            "count": 0
           },
           {
            "bin_end": 3222.0796,
            "bin_start": 3200.48136,
            "count": 1
           },
           {
            "bin_end": 3243.67784,
            "bin_start": 3222.0796,
            "count": 0
           },
           {
            "bin_end": 3265.27608,
            "bin_start": 3243.67784,
            "count": 0
           },
           {
            "bin_end": 3286.87432,
            "bin_start": 3265.27608,
            "count": 1
           },
           {
            "bin_end": 3308.47256,
            "bin_start": 3286.87432,
            "count": 0
           },
           {
            "bin_end": 3330.0708,
            "bin_start": 3308.47256,
            "count": 1
           }
          ],
          "max": "3330.0708",
          "min": "3114.0884",
          "nan_count": 0,
          "unique_count": 5
         }
        },
        {
         "dtype": "int64",
         "name": "_deepnote_index_column"
        }
       ],
       "row_count": 5,
       "rows": [
        {
         "Code": "ALB",
         "Entity": "Albania",
         "GDP per capita (output, multiple price benchmarks)": 3114.0884,
         "Year": 1970,
         "_deepnote_index_column": 0
        },
        {
         "Code": "ALB",
         "Entity": "Albania",
         "GDP per capita (output, multiple price benchmarks)": 3159.8088,
         "Year": 1971,
         "_deepnote_index_column": 1
        },
        {
         "Code": "ALB",
         "Entity": "Albania",
         "GDP per capita (output, multiple price benchmarks)": 3214.6665,
         "Year": 1972,
         "_deepnote_index_column": 2
        },
        {
         "Code": "ALB",
         "Entity": "Albania",
         "GDP per capita (output, multiple price benchmarks)": 3267.8481,
         "Year": 1973,
         "_deepnote_index_column": 3
        },
        {
         "Code": "ALB",
         "Entity": "Albania",
         "GDP per capita (output, multiple price benchmarks)": 3330.0708,
         "Year": 1974,
         "_deepnote_index_column": 4
        }
       ]
      },
      "text/html": [
       "<div>\n",
       "<style scoped>\n",
       "    .dataframe tbody tr th:only-of-type {\n",
       "        vertical-align: middle;\n",
       "    }\n",
       "\n",
       "    .dataframe tbody tr th {\n",
       "        vertical-align: top;\n",
       "    }\n",
       "\n",
       "    .dataframe thead th {\n",
       "        text-align: right;\n",
       "    }\n",
       "</style>\n",
       "<table border=\"1\" class=\"dataframe\">\n",
       "  <thead>\n",
       "    <tr style=\"text-align: right;\">\n",
       "      <th></th>\n",
       "      <th>Entity</th>\n",
       "      <th>Code</th>\n",
       "      <th>Year</th>\n",
       "      <th>GDP per capita (output, multiple price benchmarks)</th>\n",
       "    </tr>\n",
       "  </thead>\n",
       "  <tbody>\n",
       "    <tr>\n",
       "      <th>0</th>\n",
       "      <td>Albania</td>\n",
       "      <td>ALB</td>\n",
       "      <td>1970</td>\n",
       "      <td>3114.0884</td>\n",
       "    </tr>\n",
       "    <tr>\n",
       "      <th>1</th>\n",
       "      <td>Albania</td>\n",
       "      <td>ALB</td>\n",
       "      <td>1971</td>\n",
       "      <td>3159.8088</td>\n",
       "    </tr>\n",
       "    <tr>\n",
       "      <th>2</th>\n",
       "      <td>Albania</td>\n",
       "      <td>ALB</td>\n",
       "      <td>1972</td>\n",
       "      <td>3214.6665</td>\n",
       "    </tr>\n",
       "    <tr>\n",
       "      <th>3</th>\n",
       "      <td>Albania</td>\n",
       "      <td>ALB</td>\n",
       "      <td>1973</td>\n",
       "      <td>3267.8481</td>\n",
       "    </tr>\n",
       "    <tr>\n",
       "      <th>4</th>\n",
       "      <td>Albania</td>\n",
       "      <td>ALB</td>\n",
       "      <td>1974</td>\n",
       "      <td>3330.0708</td>\n",
       "    </tr>\n",
       "  </tbody>\n",
       "</table>\n",
       "</div>"
      ],
      "text/plain": [
       "    Entity Code  Year  GDP per capita (output, multiple price benchmarks)\n",
       "0  Albania  ALB  1970                                          3114.0884 \n",
       "1  Albania  ALB  1971                                          3159.8088 \n",
       "2  Albania  ALB  1972                                          3214.6665 \n",
       "3  Albania  ALB  1973                                          3267.8481 \n",
       "4  Albania  ALB  1974                                          3330.0708 "
      ]
     },
     "execution_count": 2,
     "metadata": {},
     "output_type": "execute_result"
    }
   ],
   "source": [
    "# importing and showing the head of the gdp per capita dataset\n",
    "df_gdp_per_capita = pd.read_csv('../datasets/gdp-per-capita-penn-world-table.csv')\n",
    "df_gdp_per_capita.head()"
   ]
  },
  {
   "cell_type": "code",
   "execution_count": 3,
   "metadata": {
    "cell_id": "fd52d5f896054b80b9395e1b93c2bc47",
    "deepnote_app_coordinates": {
     "h": 5,
     "w": 12,
     "x": 0,
     "y": 0
    },
    "deepnote_app_is_code_hidden": false,
    "deepnote_cell_type": "code",
    "deepnote_table_loading": false,
    "deepnote_table_state": {
     "filters": [],
     "pageIndex": 0,
     "pageSize": 100,
     "sortBy": []
    },
    "deepnote_to_be_reexecuted": false,
    "execution_millis": 430,
    "execution_start": 1693584860379,
    "source_hash": "3958ce0e"
   },
   "outputs": [
    {
     "data": {
      "application/vnd.deepnote.dataframe.v3+json": {
       "column_count": 4,
       "columns": [
        {
         "dtype": "object",
         "name": "Entity",
         "stats": {
          "categories": [
           {
            "count": 5,
            "name": "Afghanistan"
           }
          ],
          "nan_count": 0,
          "unique_count": 1
         }
        },
        {
         "dtype": "object",
         "name": "Code",
         "stats": {
          "categories": [
           {
            "count": 5,
            "name": "AFG"
           }
          ],
          "nan_count": 0,
          "unique_count": 1
         }
        },
        {
         "dtype": "int64",
         "name": "Year",
         "stats": {
          "histogram": [
           {
            "bin_end": 1950.4,
            "bin_start": 1950,
            "count": 1
           },
           {
            "bin_end": 1950.8,
            "bin_start": 1950.4,
            "count": 0
           },
           {
            "bin_end": 1951.2,
            "bin_start": 1950.8,
            "count": 1
           },
           {
            "bin_end": 1951.6,
            "bin_start": 1951.2,
            "count": 0
           },
           {
            "bin_end": 1952,
            "bin_start": 1951.6,
            "count": 0
           },
           {
            "bin_end": 1952.4,
            "bin_start": 1952,
            "count": 1
           },
           {
            "bin_end": 1952.8,
            "bin_start": 1952.4,
            "count": 0
           },
           {
            "bin_end": 1953.2,
            "bin_start": 1952.8,
            "count": 1
           },
           {
            "bin_end": 1953.6,
            "bin_start": 1953.2,
            "count": 0
           },
           {
            "bin_end": 1954,
            "bin_start": 1953.6,
            "count": 1
           }
          ],
          "max": "1954",
          "min": "1950",
          "nan_count": 0,
          "unique_count": 5
         }
        },
        {
         "dtype": "float64",
         "name": "Life expectancy at birth (historical)",
         "stats": {
          "histogram": [
           {
            "bin_end": 27.849999999999998,
            "bin_start": 27.7,
            "count": 1
           },
           {
            "bin_end": 28,
            "bin_start": 27.849999999999998,
            "count": 0
           },
           {
            "bin_end": 28.15,
            "bin_start": 28,
            "count": 1
           },
           {
            "bin_end": 28.3,
            "bin_start": 28.15,
            "count": 0
           },
           {
            "bin_end": 28.45,
            "bin_start": 28.3,
            "count": 1
           },
           {
            "bin_end": 28.599999999999998,
            "bin_start": 28.45,
            "count": 0
           },
           {
            "bin_end": 28.75,
            "bin_start": 28.599999999999998,
            "count": 0
           },
           {
            "bin_end": 28.9,
            "bin_start": 28.75,
            "count": 0
           },
           {
            "bin_end": 29.05,
            "bin_start": 28.9,
            "count": 1
           },
           {
            "bin_end": 29.2,
            "bin_start": 29.05,
            "count": 1
           }
          ],
          "max": "29.2",
          "min": "27.7",
          "nan_count": 0,
          "unique_count": 5
         }
        },
        {
         "dtype": "int64",
         "name": "_deepnote_index_column"
        }
       ],
       "row_count": 5,
       "rows": [
        {
         "Code": "AFG",
         "Entity": "Afghanistan",
         "Life expectancy at birth (historical)": 27.7,
         "Year": 1950,
         "_deepnote_index_column": 0
        },
        {
         "Code": "AFG",
         "Entity": "Afghanistan",
         "Life expectancy at birth (historical)": 28,
         "Year": 1951,
         "_deepnote_index_column": 1
        },
        {
         "Code": "AFG",
         "Entity": "Afghanistan",
         "Life expectancy at birth (historical)": 28.4,
         "Year": 1952,
         "_deepnote_index_column": 2
        },
        {
         "Code": "AFG",
         "Entity": "Afghanistan",
         "Life expectancy at birth (historical)": 28.9,
         "Year": 1953,
         "_deepnote_index_column": 3
        },
        {
         "Code": "AFG",
         "Entity": "Afghanistan",
         "Life expectancy at birth (historical)": 29.2,
         "Year": 1954,
         "_deepnote_index_column": 4
        }
       ]
      },
      "text/html": [
       "<div>\n",
       "<style scoped>\n",
       "    .dataframe tbody tr th:only-of-type {\n",
       "        vertical-align: middle;\n",
       "    }\n",
       "\n",
       "    .dataframe tbody tr th {\n",
       "        vertical-align: top;\n",
       "    }\n",
       "\n",
       "    .dataframe thead th {\n",
       "        text-align: right;\n",
       "    }\n",
       "</style>\n",
       "<table border=\"1\" class=\"dataframe\">\n",
       "  <thead>\n",
       "    <tr style=\"text-align: right;\">\n",
       "      <th></th>\n",
       "      <th>Entity</th>\n",
       "      <th>Code</th>\n",
       "      <th>Year</th>\n",
       "      <th>Life expectancy at birth (historical)</th>\n",
       "    </tr>\n",
       "  </thead>\n",
       "  <tbody>\n",
       "    <tr>\n",
       "      <th>0</th>\n",
       "      <td>Afghanistan</td>\n",
       "      <td>AFG</td>\n",
       "      <td>1950</td>\n",
       "      <td>27.7</td>\n",
       "    </tr>\n",
       "    <tr>\n",
       "      <th>1</th>\n",
       "      <td>Afghanistan</td>\n",
       "      <td>AFG</td>\n",
       "      <td>1951</td>\n",
       "      <td>28.0</td>\n",
       "    </tr>\n",
       "    <tr>\n",
       "      <th>2</th>\n",
       "      <td>Afghanistan</td>\n",
       "      <td>AFG</td>\n",
       "      <td>1952</td>\n",
       "      <td>28.4</td>\n",
       "    </tr>\n",
       "    <tr>\n",
       "      <th>3</th>\n",
       "      <td>Afghanistan</td>\n",
       "      <td>AFG</td>\n",
       "      <td>1953</td>\n",
       "      <td>28.9</td>\n",
       "    </tr>\n",
       "    <tr>\n",
       "      <th>4</th>\n",
       "      <td>Afghanistan</td>\n",
       "      <td>AFG</td>\n",
       "      <td>1954</td>\n",
       "      <td>29.2</td>\n",
       "    </tr>\n",
       "  </tbody>\n",
       "</table>\n",
       "</div>"
      ],
      "text/plain": [
       "        Entity Code  Year  Life expectancy at birth (historical)\n",
       "0  Afghanistan  AFG  1950                                   27.7\n",
       "1  Afghanistan  AFG  1951                                   28.0\n",
       "2  Afghanistan  AFG  1952                                   28.4\n",
       "3  Afghanistan  AFG  1953                                   28.9\n",
       "4  Afghanistan  AFG  1954                                   29.2"
      ]
     },
     "execution_count": 3,
     "metadata": {},
     "output_type": "execute_result"
    }
   ],
   "source": [
    "# importing and showing the head of the life expectancy dataset\n",
    "df_life = pd.read_csv('../datasets/life-expectancy.csv')\n",
    "df_life.head()"
   ]
  },
  {
   "cell_type": "code",
   "execution_count": 4,
   "metadata": {
    "cell_id": "a132f527625f4ac083a4d284a421cef9",
    "deepnote_app_coordinates": {
     "h": 5,
     "w": 12,
     "x": 0,
     "y": 0
    },
    "deepnote_app_is_code_hidden": false,
    "deepnote_cell_type": "code",
    "deepnote_to_be_reexecuted": false,
    "execution_millis": 276,
    "execution_start": 1693584860486,
    "source_hash": "fd24358b"
   },
   "outputs": [
    {
     "data": {
      "application/vnd.deepnote.dataframe.v3+json": {
       "column_count": 4,
       "columns": [
        {
         "dtype": "object",
         "name": "Entity",
         "stats": {
          "categories": [
           {
            "count": 5,
            "name": "Afghanistan"
           }
          ],
          "nan_count": 0,
          "unique_count": 1
         }
        },
        {
         "dtype": "object",
         "name": "Code",
         "stats": {
          "categories": [
           {
            "count": 5,
            "name": "AFG"
           }
          ],
          "nan_count": 0,
          "unique_count": 1
         }
        },
        {
         "dtype": "int64",
         "name": "Year",
         "stats": {
          "histogram": [
           {
            "bin_end": 2002.4,
            "bin_start": 2002,
            "count": 1
           },
           {
            "bin_end": 2002.8,
            "bin_start": 2002.4,
            "count": 0
           },
           {
            "bin_end": 2003.2,
            "bin_start": 2002.8,
            "count": 1
           },
           {
            "bin_end": 2003.6,
            "bin_start": 2003.2,
            "count": 0
           },
           {
            "bin_end": 2004,
            "bin_start": 2003.6,
            "count": 0
           },
           {
            "bin_end": 2004.4,
            "bin_start": 2004,
            "count": 1
           },
           {
            "bin_end": 2004.8,
            "bin_start": 2004.4,
            "count": 0
           },
           {
            "bin_end": 2005.2,
            "bin_start": 2004.8,
            "count": 1
           },
           {
            "bin_end": 2005.6,
            "bin_start": 2005.2,
            "count": 0
           },
           {
            "bin_end": 2006,
            "bin_start": 2005.6,
            "count": 1
           }
          ],
          "max": "2006",
          "min": "2002",
          "nan_count": 0,
          "unique_count": 5
         }
        },
        {
         "dtype": "int64",
         "name": "GDP, PPP (constant 2017 international $)",
         "stats": {
          "histogram": [
           {
            "bin_end": 27679081600,
            "bin_start": 26890054000,
            "count": 1
           },
           {
            "bin_end": 28468109200,
            "bin_start": 27679081600,
            "count": 0
           },
           {
            "bin_end": 29257136800,
            "bin_start": 28468109200,
            "count": 0
           },
           {
            "bin_end": 30046164400,
            "bin_start": 29257136800,
            "count": 2
           },
           {
            "bin_end": 30835192000,
            "bin_start": 30046164400,
            "count": 0
           },
           {
            "bin_end": 31624219600,
            "bin_start": 30835192000,
            "count": 0
           },
           {
            "bin_end": 32413247200,
            "bin_start": 31624219600,
            "count": 0
           },
           {
            "bin_end": 33202274800,
            "bin_start": 32413247200,
            "count": 1
           },
           {
            "bin_end": 33991302400,
            "bin_start": 33202274800,
            "count": 0
           },
           {
            "bin_end": 34780330000,
            "bin_start": 33991302400,
            "count": 1
           }
          ],
          "max": "34780330000",
          "min": "26890054000",
          "nan_count": 0,
          "unique_count": 5
         }
        },
        {
         "dtype": "int64",
         "name": "_deepnote_index_column"
        }
       ],
       "row_count": 5,
       "rows": [
        {
         "Code": "AFG",
         "Entity": "Afghanistan",
         "GDP, PPP (constant 2017 international $)": 26890054000,
         "Year": 2002,
         "_deepnote_index_column": 0
        },
        {
         "Code": "AFG",
         "Entity": "Afghanistan",
         "GDP, PPP (constant 2017 international $)": 29265058000,
         "Year": 2003,
         "_deepnote_index_column": 1
        },
        {
         "Code": "AFG",
         "Entity": "Afghanistan",
         "GDP, PPP (constant 2017 international $)": 29678901000,
         "Year": 2004,
         "_deepnote_index_column": 2
        },
        {
         "Code": "AFG",
         "Entity": "Afghanistan",
         "GDP, PPP (constant 2017 international $)": 33011757000,
         "Year": 2005,
         "_deepnote_index_column": 3
        },
        {
         "Code": "AFG",
         "Entity": "Afghanistan",
         "GDP, PPP (constant 2017 international $)": 34780330000,
         "Year": 2006,
         "_deepnote_index_column": 4
        }
       ]
      },
      "text/html": [
       "<div>\n",
       "<style scoped>\n",
       "    .dataframe tbody tr th:only-of-type {\n",
       "        vertical-align: middle;\n",
       "    }\n",
       "\n",
       "    .dataframe tbody tr th {\n",
       "        vertical-align: top;\n",
       "    }\n",
       "\n",
       "    .dataframe thead th {\n",
       "        text-align: right;\n",
       "    }\n",
       "</style>\n",
       "<table border=\"1\" class=\"dataframe\">\n",
       "  <thead>\n",
       "    <tr style=\"text-align: right;\">\n",
       "      <th></th>\n",
       "      <th>Entity</th>\n",
       "      <th>Code</th>\n",
       "      <th>Year</th>\n",
       "      <th>GDP, PPP (constant 2017 international $)</th>\n",
       "    </tr>\n",
       "  </thead>\n",
       "  <tbody>\n",
       "    <tr>\n",
       "      <th>0</th>\n",
       "      <td>Afghanistan</td>\n",
       "      <td>AFG</td>\n",
       "      <td>2002</td>\n",
       "      <td>26890054000</td>\n",
       "    </tr>\n",
       "    <tr>\n",
       "      <th>1</th>\n",
       "      <td>Afghanistan</td>\n",
       "      <td>AFG</td>\n",
       "      <td>2003</td>\n",
       "      <td>29265058000</td>\n",
       "    </tr>\n",
       "    <tr>\n",
       "      <th>2</th>\n",
       "      <td>Afghanistan</td>\n",
       "      <td>AFG</td>\n",
       "      <td>2004</td>\n",
       "      <td>29678901000</td>\n",
       "    </tr>\n",
       "    <tr>\n",
       "      <th>3</th>\n",
       "      <td>Afghanistan</td>\n",
       "      <td>AFG</td>\n",
       "      <td>2005</td>\n",
       "      <td>33011757000</td>\n",
       "    </tr>\n",
       "    <tr>\n",
       "      <th>4</th>\n",
       "      <td>Afghanistan</td>\n",
       "      <td>AFG</td>\n",
       "      <td>2006</td>\n",
       "      <td>34780330000</td>\n",
       "    </tr>\n",
       "  </tbody>\n",
       "</table>\n",
       "</div>"
      ],
      "text/plain": [
       "        Entity Code  Year  GDP, PPP (constant 2017 international $)\n",
       "0  Afghanistan  AFG  2002                               26890054000\n",
       "1  Afghanistan  AFG  2003                               29265058000\n",
       "2  Afghanistan  AFG  2004                               29678901000\n",
       "3  Afghanistan  AFG  2005                               33011757000\n",
       "4  Afghanistan  AFG  2006                               34780330000"
      ]
     },
     "execution_count": 4,
     "metadata": {},
     "output_type": "execute_result"
    }
   ],
   "source": [
    "# importing and showing the head of the gdp dataset\n",
    "df_gdp = pd.read_csv('../datasets/national-gdp-wb.csv')\n",
    "df_gdp.head()"
   ]
  },
  {
   "cell_type": "markdown",
   "metadata": {
    "cell_id": "063eb85bb2384524b4aca49a1132976f",
    "deepnote_app_coordinates": {
     "h": 5,
     "w": 12,
     "x": 0,
     "y": 0
    },
    "deepnote_cell_type": "text-cell-h2",
    "formattedRanges": []
   },
   "source": [
    "## Data cleaning and data selection"
   ]
  },
  {
   "cell_type": "markdown",
   "metadata": {
    "cell_id": "1c692fd0e4f648c587b65aa2b46ab1f4",
    "deepnote_app_coordinates": {
     "h": 5,
     "w": 12,
     "x": 0,
     "y": 0
    },
    "deepnote_cell_type": "markdown"
   },
   "source": [
    "After printing the first 5 rows of the dataframes, we will use the `merge()` function from the Pandas library to create the dataframe that will be used in the assignment. In particular, the merge operation will be an inner join. There are 2 main reason for this choice:\n",
    "\n",
    "\n",
    "\n",
    "- To have a single dataframe to be handled in the assignment\n",
    "\n",
    "\n",
    "\n",
    "- Since the merge operation is an inner join we are also able to perform data cleaning related to the information we want to analyze (GDP per capita, life expectancy and GDP), removing null values in those 3 feature columns.\n",
    "\n",
    "\n",
    "\n",
    "The country name, the country code and the year will be used as primary key to actually perform the merge among the 3 Pandas objects. \n",
    "\n",
    "\n",
    "\n"
   ]
  },
  {
   "cell_type": "code",
   "execution_count": 5,
   "metadata": {
    "cell_id": "4244160ea5b949a9ba3a57ae6bb570f0",
    "deepnote_app_coordinates": {
     "h": 5,
     "w": 12,
     "x": 0,
     "y": 0
    },
    "deepnote_app_is_code_hidden": false,
    "deepnote_cell_type": "code",
    "deepnote_to_be_reexecuted": false,
    "execution_millis": 1067,
    "execution_start": 1693584860557,
    "source_hash": "4f63e69"
   },
   "outputs": [
    {
     "data": {
      "application/vnd.deepnote.dataframe.v3+json": {
       "column_count": 6,
       "columns": [
        {
         "dtype": "object",
         "name": "Entity",
         "stats": {
          "categories": [
           {
            "count": 30,
            "name": "Albania"
           },
           {
            "count": 30,
            "name": "Algeria"
           },
           {
            "count": 4988,
            "name": "173 others"
           }
          ],
          "nan_count": 0,
          "unique_count": 175
         }
        },
        {
         "dtype": "object",
         "name": "Code",
         "stats": {
          "categories": [
           {
            "count": 30,
            "name": "ALB"
           },
           {
            "count": 30,
            "name": "DZA"
           },
           {
            "count": 4988,
            "name": "173 others"
           }
          ],
          "nan_count": 0,
          "unique_count": 175
         }
        },
        {
         "dtype": "int64",
         "name": "Year",
         "stats": {
          "histogram": [
           {
            "bin_end": 1992.9,
            "bin_start": 1990,
            "count": 454
           },
           {
            "bin_end": 1995.8,
            "bin_start": 1992.9,
            "count": 474
           },
           {
            "bin_end": 1998.7,
            "bin_start": 1995.8,
            "count": 499
           },
           {
            "bin_end": 2001.6,
            "bin_start": 1998.7,
            "count": 506
           },
           {
            "bin_end": 2004.5,
            "bin_start": 2001.6,
            "count": 510
           },
           {
            "bin_end": 2007.4,
            "bin_start": 2004.5,
            "count": 515
           },
           {
            "bin_end": 2010.3,
            "bin_start": 2007.4,
            "count": 518
           },
           {
            "bin_end": 2013.2,
            "bin_start": 2010.3,
            "count": 523
           },
           {
            "bin_end": 2016.1,
            "bin_start": 2013.2,
            "count": 525
           },
           {
            "bin_end": 2019,
            "bin_start": 2016.1,
            "count": 524
           }
          ],
          "max": "2019",
          "min": "1990",
          "nan_count": 0,
          "unique_count": 30
         }
        },
        {
         "dtype": "float64",
         "name": "GDP per capita (output, multiple price benchmarks)",
         "stats": {
          "histogram": [
           {
            "bin_end": 30737.595208,
            "bin_start": 463.25912,
            "count": 4114
           },
           {
            "bin_end": 61011.931296,
            "bin_start": 30737.595208,
            "count": 739
           },
           {
            "bin_end": 91286.267384,
            "bin_start": 61011.931296,
            "count": 123
           },
           {
            "bin_end": 121560.603472,
            "bin_start": 91286.267384,
            "count": 46
           },
           {
            "bin_end": 151834.93956,
            "bin_start": 121560.603472,
            "count": 13
           },
           {
            "bin_end": 182109.275648,
            "bin_start": 151834.93956,
            "count": 5
           },
           {
            "bin_end": 212383.611736,
            "bin_start": 182109.275648,
            "count": 1
           },
           {
            "bin_end": 242657.947824,
            "bin_start": 212383.611736,
            "count": 2
           },
           {
            "bin_end": 272932.283912,
            "bin_start": 242657.947824,
            "count": 1
           },
           {
            "bin_end": 303206.62,
            "bin_start": 272932.283912,
            "count": 4
           }
          ],
          "max": "303206.62",
          "min": "463.25912",
          "nan_count": 0,
          "unique_count": 5048
         }
        },
        {
         "dtype": "float64",
         "name": "Life expectancy at birth (historical)",
         "stats": {
          "histogram": [
           {
            "bin_end": 21.22,
            "bin_start": 14.1,
            "count": 1
           },
           {
            "bin_end": 28.34,
            "bin_start": 21.22,
            "count": 0
           },
           {
            "bin_end": 35.46,
            "bin_start": 28.34,
            "count": 0
           },
           {
            "bin_end": 42.58,
            "bin_start": 35.46,
            "count": 15
           },
           {
            "bin_end": 49.7,
            "bin_start": 42.58,
            "count": 253
           },
           {
            "bin_end": 56.82,
            "bin_start": 49.7,
            "count": 454
           },
           {
            "bin_end": 63.940000000000005,
            "bin_start": 56.82,
            "count": 678
           },
           {
            "bin_end": 71.06,
            "bin_start": 63.940000000000005,
            "count": 1079
           },
           {
            "bin_end": 78.17999999999999,
            "bin_start": 71.06,
            "count": 1789
           },
           {
            "bin_end": 85.3,
            "bin_start": 78.17999999999999,
            "count": 779
           }
          ],
          "max": "85.3",
          "min": "14.1",
          "nan_count": 0,
          "unique_count": 432
         }
        },
        {
         "dtype": "int64",
         "name": "GDP, PPP (constant 2017 international $)",
         "stats": {
          "histogram": [
           {
            "bin_end": 2249598644620,
            "bin_start": 374271800,
            "count": 4788
           },
           {
            "bin_end": 4498823017440,
            "bin_start": 2249598644620,
            "count": 178
           },
           {
            "bin_end": 6748047390260,
            "bin_start": 4498823017440,
            "count": 32
           },
           {
            "bin_end": 8997271763080,
            "bin_start": 6748047390260,
            "count": 7
           },
           {
            "bin_end": 11246496135900,
            "bin_start": 8997271763080,
            "count": 8
           },
           {
            "bin_end": 13495720508720,
            "bin_start": 11246496135900,
            "count": 6
           },
           {
            "bin_end": 15744944881540,
            "bin_start": 13495720508720,
            "count": 8
           },
           {
            "bin_end": 17994169254360,
            "bin_start": 15744944881540,
            "count": 11
           },
           {
            "bin_end": 20243393627180,
            "bin_start": 17994169254360,
            "count": 7
           },
           {
            "bin_end": 22492618000000,
            "bin_start": 20243393627180,
            "count": 3
           }
          ],
          "max": "22492618000000",
          "min": "374271800",
          "nan_count": 0,
          "unique_count": 5046
         }
        },
        {
         "dtype": "int64",
         "name": "_deepnote_index_column"
        }
       ],
       "row_count": 5048,
       "rows": [
        {
         "Code": "ALB",
         "Entity": "Albania",
         "GDP per capita (output, multiple price benchmarks)": 3681.2083,
         "GDP, PPP (constant 2017 international $)": 15867113000,
         "Life expectancy at birth (historical)": 73.1,
         "Year": 1990,
         "_deepnote_index_column": 0
        },
        {
         "Code": "ALB",
         "Entity": "Albania",
         "GDP per capita (output, multiple price benchmarks)": 3299.2512,
         "GDP, PPP (constant 2017 international $)": 11423983000,
         "Life expectancy at birth (historical)": 73.4,
         "Year": 1991,
         "_deepnote_index_column": 1
        },
        {
         "Code": "ALB",
         "Entity": "Albania",
         "GDP per capita (output, multiple price benchmarks)": 3009.153,
         "GDP, PPP (constant 2017 international $)": 10602928000,
         "Life expectancy at birth (historical)": 73.7,
         "Year": 1992,
         "_deepnote_index_column": 2
        },
        {
         "Code": "ALB",
         "Entity": "Albania",
         "GDP per capita (output, multiple price benchmarks)": 3512.3381,
         "GDP, PPP (constant 2017 international $)": 11616506000,
         "Life expectancy at birth (historical)": 73.9,
         "Year": 1993,
         "_deepnote_index_column": 3
        },
        {
         "Code": "ALB",
         "Entity": "Albania",
         "GDP per capita (output, multiple price benchmarks)": 4027.3682,
         "GDP, PPP (constant 2017 international $)": 12581008000,
         "Life expectancy at birth (historical)": 74.1,
         "Year": 1994,
         "_deepnote_index_column": 4
        },
        {
         "Code": "ALB",
         "Entity": "Albania",
         "GDP per capita (output, multiple price benchmarks)": 4391.234,
         "GDP, PPP (constant 2017 international $)": 14257093000,
         "Life expectancy at birth (historical)": 74.4,
         "Year": 1995,
         "_deepnote_index_column": 5
        },
        {
         "Code": "ALB",
         "Entity": "Albania",
         "GDP per capita (output, multiple price benchmarks)": 4862.4824,
         "GDP, PPP (constant 2017 international $)": 15554487000,
         "Life expectancy at birth (historical)": 74.6,
         "Year": 1996,
         "_deepnote_index_column": 6
        },
        {
         "Code": "ALB",
         "Entity": "Albania",
         "GDP per capita (output, multiple price benchmarks)": 4539.818,
         "GDP, PPP (constant 2017 international $)": 13855940000,
         "Life expectancy at birth (historical)": 73.9,
         "Year": 1997,
         "_deepnote_index_column": 7
        },
        {
         "Code": "ALB",
         "Entity": "Albania",
         "GDP per capita (output, multiple price benchmarks)": 4993.022,
         "GDP, PPP (constant 2017 international $)": 15079340000,
         "Life expectancy at birth (historical)": 75,
         "Year": 1998,
         "_deepnote_index_column": 8
        },
        {
         "Code": "ALB",
         "Entity": "Albania",
         "GDP per capita (output, multiple price benchmarks)": 5292.0273,
         "GDP, PPP (constant 2017 international $)": 17023188000,
         "Life expectancy at birth (historical)": 75.2,
         "Year": 1999,
         "_deepnote_index_column": 9
        }
       ]
      },
      "text/html": [
       "<div>\n",
       "<style scoped>\n",
       "    .dataframe tbody tr th:only-of-type {\n",
       "        vertical-align: middle;\n",
       "    }\n",
       "\n",
       "    .dataframe tbody tr th {\n",
       "        vertical-align: top;\n",
       "    }\n",
       "\n",
       "    .dataframe thead th {\n",
       "        text-align: right;\n",
       "    }\n",
       "</style>\n",
       "<table border=\"1\" class=\"dataframe\">\n",
       "  <thead>\n",
       "    <tr style=\"text-align: right;\">\n",
       "      <th></th>\n",
       "      <th>Entity</th>\n",
       "      <th>Code</th>\n",
       "      <th>Year</th>\n",
       "      <th>GDP per capita (output, multiple price benchmarks)</th>\n",
       "      <th>Life expectancy at birth (historical)</th>\n",
       "      <th>GDP, PPP (constant 2017 international $)</th>\n",
       "    </tr>\n",
       "  </thead>\n",
       "  <tbody>\n",
       "    <tr>\n",
       "      <th>0</th>\n",
       "      <td>Albania</td>\n",
       "      <td>ALB</td>\n",
       "      <td>1990</td>\n",
       "      <td>3681.2083</td>\n",
       "      <td>73.1</td>\n",
       "      <td>15867113000</td>\n",
       "    </tr>\n",
       "    <tr>\n",
       "      <th>1</th>\n",
       "      <td>Albania</td>\n",
       "      <td>ALB</td>\n",
       "      <td>1991</td>\n",
       "      <td>3299.2512</td>\n",
       "      <td>73.4</td>\n",
       "      <td>11423983000</td>\n",
       "    </tr>\n",
       "    <tr>\n",
       "      <th>2</th>\n",
       "      <td>Albania</td>\n",
       "      <td>ALB</td>\n",
       "      <td>1992</td>\n",
       "      <td>3009.1530</td>\n",
       "      <td>73.7</td>\n",
       "      <td>10602928000</td>\n",
       "    </tr>\n",
       "    <tr>\n",
       "      <th>3</th>\n",
       "      <td>Albania</td>\n",
       "      <td>ALB</td>\n",
       "      <td>1993</td>\n",
       "      <td>3512.3381</td>\n",
       "      <td>73.9</td>\n",
       "      <td>11616506000</td>\n",
       "    </tr>\n",
       "    <tr>\n",
       "      <th>4</th>\n",
       "      <td>Albania</td>\n",
       "      <td>ALB</td>\n",
       "      <td>1994</td>\n",
       "      <td>4027.3682</td>\n",
       "      <td>74.1</td>\n",
       "      <td>12581008000</td>\n",
       "    </tr>\n",
       "    <tr>\n",
       "      <th>...</th>\n",
       "      <td>...</td>\n",
       "      <td>...</td>\n",
       "      <td>...</td>\n",
       "      <td>...</td>\n",
       "      <td>...</td>\n",
       "      <td>...</td>\n",
       "    </tr>\n",
       "    <tr>\n",
       "      <th>5043</th>\n",
       "      <td>Zimbabwe</td>\n",
       "      <td>ZWE</td>\n",
       "      <td>2015</td>\n",
       "      <td>2880.9058</td>\n",
       "      <td>59.6</td>\n",
       "      <td>32752806000</td>\n",
       "    </tr>\n",
       "    <tr>\n",
       "      <th>5044</th>\n",
       "      <td>Zimbabwe</td>\n",
       "      <td>ZWE</td>\n",
       "      <td>2016</td>\n",
       "      <td>2919.6170</td>\n",
       "      <td>60.3</td>\n",
       "      <td>33047894000</td>\n",
       "    </tr>\n",
       "    <tr>\n",
       "      <th>5045</th>\n",
       "      <td>Zimbabwe</td>\n",
       "      <td>ZWE</td>\n",
       "      <td>2017</td>\n",
       "      <td>3112.8750</td>\n",
       "      <td>60.7</td>\n",
       "      <td>34396336000</td>\n",
       "    </tr>\n",
       "    <tr>\n",
       "      <th>5046</th>\n",
       "      <td>Zimbabwe</td>\n",
       "      <td>ZWE</td>\n",
       "      <td>2018</td>\n",
       "      <td>3007.2370</td>\n",
       "      <td>61.4</td>\n",
       "      <td>36119544000</td>\n",
       "    </tr>\n",
       "    <tr>\n",
       "      <th>5047</th>\n",
       "      <td>Zimbabwe</td>\n",
       "      <td>ZWE</td>\n",
       "      <td>2019</td>\n",
       "      <td>2787.6590</td>\n",
       "      <td>61.3</td>\n",
       "      <td>33832294000</td>\n",
       "    </tr>\n",
       "  </tbody>\n",
       "</table>\n",
       "<p>5048 rows × 6 columns</p>\n",
       "</div>"
      ],
      "text/plain": [
       "        Entity Code  Year  GDP per capita (output, multiple price benchmarks)  \\\n",
       "0      Albania  ALB  1990                                          3681.2083    \n",
       "1      Albania  ALB  1991                                          3299.2512    \n",
       "2      Albania  ALB  1992                                          3009.1530    \n",
       "3      Albania  ALB  1993                                          3512.3381    \n",
       "4      Albania  ALB  1994                                          4027.3682    \n",
       "...        ...  ...   ...                                                ...    \n",
       "5043  Zimbabwe  ZWE  2015                                          2880.9058    \n",
       "5044  Zimbabwe  ZWE  2016                                          2919.6170    \n",
       "5045  Zimbabwe  ZWE  2017                                          3112.8750    \n",
       "5046  Zimbabwe  ZWE  2018                                          3007.2370    \n",
       "5047  Zimbabwe  ZWE  2019                                          2787.6590    \n",
       "\n",
       "      Life expectancy at birth (historical)  \\\n",
       "0                                      73.1   \n",
       "1                                      73.4   \n",
       "2                                      73.7   \n",
       "3                                      73.9   \n",
       "4                                      74.1   \n",
       "...                                     ...   \n",
       "5043                                   59.6   \n",
       "5044                                   60.3   \n",
       "5045                                   60.7   \n",
       "5046                                   61.4   \n",
       "5047                                   61.3   \n",
       "\n",
       "      GDP, PPP (constant 2017 international $)  \n",
       "0                                  15867113000  \n",
       "1                                  11423983000  \n",
       "2                                  10602928000  \n",
       "3                                  11616506000  \n",
       "4                                  12581008000  \n",
       "...                                        ...  \n",
       "5043                               32752806000  \n",
       "5044                               33047894000  \n",
       "5045                               34396336000  \n",
       "5046                               36119544000  \n",
       "5047                               33832294000  \n",
       "\n",
       "[5048 rows x 6 columns]"
      ]
     },
     "execution_count": 5,
     "metadata": {},
     "output_type": "execute_result"
    }
   ],
   "source": [
    "df = pd.merge(df_gdp_per_capita, df_life, on=['Entity', 'Code', 'Year']).merge(df_gdp, on=['Entity', 'Code', 'Year'])\n",
    "df"
   ]
  },
  {
   "cell_type": "markdown",
   "metadata": {
    "cell_id": "62b6778f05ea4489ad49df08fe00df09",
    "deepnote_app_coordinates": {
     "h": 2,
     "w": 8,
     "x": 0,
     "y": 0
    },
    "deepnote_cell_type": "text-cell-p",
    "formattedRanges": []
   },
   "source": [
    "The last operation that will be useful in the next steps (especially for the data selection) is to find the available years after the merge operation:"
   ]
  },
  {
   "cell_type": "code",
   "execution_count": 6,
   "metadata": {
    "cell_id": "e1ec16fcaa7243f0aeadeb45f2237d52",
    "deepnote_app_coordinates": {
     "h": 5,
     "w": 12,
     "x": 0,
     "y": 0
    },
    "deepnote_app_is_code_hidden": false,
    "deepnote_cell_type": "code",
    "deepnote_to_be_reexecuted": false,
    "execution_millis": 71,
    "execution_start": 1693584860699,
    "source_hash": "3fb9dd6d"
   },
   "outputs": [
    {
     "name": "stdout",
     "output_type": "stream",
     "text": [
      "{2016, 2017, 2018, 2013, 2014, 2015}\n"
     ]
    }
   ],
   "source": [
    "# Grouping by 'Category' and finding the intersection of values between groups\n",
    "grouped = df.groupby('Code')['Year'].apply(set)\n",
    "\n",
    "# Finding the common values between categories\n",
    "common_year = set.intersection(*grouped)\n",
    "\n",
    "print(common_year)"
   ]
  },
  {
   "cell_type": "markdown",
   "metadata": {
    "cell_id": "843a12943e3844489a96a7648eca5445",
    "deepnote_app_coordinates": {
     "h": 5,
     "w": 12,
     "x": 0,
     "y": 0
    },
    "deepnote_cell_type": "text-cell-h3",
    "formattedRanges": []
   },
   "source": [
    "### Specific year selection"
   ]
  },
  {
   "cell_type": "markdown",
   "metadata": {
    "cell_id": "dc16a0ef39b64e96bb9a6cb81d67c5b0",
    "deepnote_app_coordinates": {
     "h": 2,
     "w": 8,
     "x": 0,
     "y": 0
    },
    "deepnote_cell_type": "text-cell-p",
    "formattedRanges": []
   },
   "source": [
    "After finding the intersection of Entity, Code and Year in all datasets, we are now sure that we are analyzing data for countries in the same years. For the selection of the specific year we chose the most recent one, so the results would hopefully be the most accurate related to the current date."
   ]
  },
  {
   "cell_type": "code",
   "execution_count": 7,
   "metadata": {
    "cell_id": "301b2243cf6d47f8bc067095bfbfa457",
    "deepnote_app_coordinates": {
     "h": 5,
     "w": 12,
     "x": 0,
     "y": 0
    },
    "deepnote_app_is_code_hidden": false,
    "deepnote_cell_type": "code",
    "deepnote_table_loading": false,
    "deepnote_table_state": {
     "filters": [],
     "pageIndex": 0,
     "pageSize": 10,
     "sortBy": []
    },
    "deepnote_to_be_reexecuted": false,
    "execution_millis": 1267,
    "execution_start": 1693584860738,
    "source_hash": "a8bf36ed"
   },
   "outputs": [
    {
     "data": {
      "application/vnd.deepnote.dataframe.v3+json": {
       "column_count": 6,
       "columns": [
        {
         "dtype": "object",
         "name": "Entity",
         "stats": {
          "categories": [
           {
            "count": 1,
            "name": "Albania"
           },
           {
            "count": 1,
            "name": "Algeria"
           },
           {
            "count": 173,
            "name": "173 others"
           }
          ],
          "nan_count": 0,
          "unique_count": 175
         }
        },
        {
         "dtype": "object",
         "name": "Code",
         "stats": {
          "categories": [
           {
            "count": 1,
            "name": "ALB"
           },
           {
            "count": 1,
            "name": "DZA"
           },
           {
            "count": 173,
            "name": "173 others"
           }
          ],
          "nan_count": 0,
          "unique_count": 175
         }
        },
        {
         "dtype": "int64",
         "name": "Year",
         "stats": {
          "histogram": [
           {
            "bin_end": 2017.6,
            "bin_start": 2017.5,
            "count": 0
           },
           {
            "bin_end": 2017.7,
            "bin_start": 2017.6,
            "count": 0
           },
           {
            "bin_end": 2017.8,
            "bin_start": 2017.7,
            "count": 0
           },
           {
            "bin_end": 2017.9,
            "bin_start": 2017.8,
            "count": 0
           },
           {
            "bin_end": 2018,
            "bin_start": 2017.9,
            "count": 0
           },
           {
            "bin_end": 2018.1,
            "bin_start": 2018,
            "count": 175
           },
           {
            "bin_end": 2018.2,
            "bin_start": 2018.1,
            "count": 0
           },
           {
            "bin_end": 2018.3,
            "bin_start": 2018.2,
            "count": 0
           },
           {
            "bin_end": 2018.4,
            "bin_start": 2018.3,
            "count": 0
           },
           {
            "bin_end": 2018.5,
            "bin_start": 2018.4,
            "count": 0
           }
          ],
          "max": "2018",
          "min": "2018",
          "nan_count": 0,
          "unique_count": 1
         }
        },
        {
         "dtype": "float64",
         "name": "GDP per capita (output, multiple price benchmarks)",
         "stats": {
          "histogram": [
           {
            "bin_end": 12405.205030000001,
            "bin_start": 807.7167,
            "count": 77
           },
           {
            "bin_end": 24002.69336,
            "bin_start": 12405.205030000001,
            "count": 37
           },
           {
            "bin_end": 35600.18169,
            "bin_start": 24002.69336,
            "count": 25
           },
           {
            "bin_end": 47197.67002,
            "bin_start": 35600.18169,
            "count": 12
           },
           {
            "bin_end": 58795.15835,
            "bin_start": 47197.67002,
            "count": 12
           },
           {
            "bin_end": 70392.64668,
            "bin_start": 58795.15835,
            "count": 5
           },
           {
            "bin_end": 81990.13501000001,
            "bin_start": 70392.64668,
            "count": 2
           },
           {
            "bin_end": 93587.62334,
            "bin_start": 81990.13501000001,
            "count": 3
           },
           {
            "bin_end": 105185.11167,
            "bin_start": 93587.62334,
            "count": 1
           },
           {
            "bin_end": 116782.6,
            "bin_start": 105185.11167,
            "count": 1
           }
          ],
          "max": "116782.6",
          "min": "807.7167",
          "nan_count": 0,
          "unique_count": 175
         }
        },
        {
         "dtype": "float64",
         "name": "Life expectancy at birth (historical)",
         "stats": {
          "histogram": [
           {
            "bin_end": 55.86,
            "bin_start": 52.6,
            "count": 4
           },
           {
            "bin_end": 59.120000000000005,
            "bin_start": 55.86,
            "count": 1
           },
           {
            "bin_end": 62.38,
            "bin_start": 59.120000000000005,
            "count": 17
           },
           {
            "bin_end": 65.64,
            "bin_start": 62.38,
            "count": 15
           },
           {
            "bin_end": 68.9,
            "bin_start": 65.64,
            "count": 13
           },
           {
            "bin_end": 72.16,
            "bin_start": 68.9,
            "count": 17
           },
           {
            "bin_end": 75.42,
            "bin_start": 72.16,
            "count": 32
           },
           {
            "bin_end": 78.68,
            "bin_start": 75.42,
            "count": 33
           },
           {
            "bin_end": 81.94,
            "bin_start": 78.68,
            "count": 25
           },
           {
            "bin_end": 85.2,
            "bin_start": 81.94,
            "count": 18
           }
          ],
          "max": "85.2",
          "min": "52.6",
          "nan_count": 0,
          "unique_count": 123
         }
        },
        {
         "dtype": "int64",
         "name": "GDP, PPP (constant 2017 international $)",
         "stats": {
          "histogram": [
           {
            "bin_end": 2123691582790,
            "bin_start": 839203100,
            "count": 161
           },
           {
            "bin_end": 4246543962480,
            "bin_start": 2123691582790,
            "count": 9
           },
           {
            "bin_end": 6369396342170,
            "bin_start": 4246543962480,
            "count": 2
           },
           {
            "bin_end": 8492248721860,
            "bin_start": 6369396342170,
            "count": 0
           },
           {
            "bin_end": 10615101101550,
            "bin_start": 8492248721860,
            "count": 1
           },
           {
            "bin_end": 12737953481240,
            "bin_start": 10615101101550,
            "count": 0
           },
           {
            "bin_end": 14860805860930,
            "bin_start": 12737953481240,
            "count": 0
           },
           {
            "bin_end": 16983658240620,
            "bin_start": 14860805860930,
            "count": 0
           },
           {
            "bin_end": 19106510620310,
            "bin_start": 16983658240620,
            "count": 0
           },
           {
            "bin_end": 21229363000000,
            "bin_start": 19106510620310,
            "count": 2
           }
          ],
          "max": "21229363000000",
          "min": "839203100",
          "nan_count": 0,
          "unique_count": 175
         }
        },
        {
         "dtype": "int64",
         "name": "_deepnote_index_column"
        }
       ],
       "row_count": 175,
       "rows": [
        {
         "Code": "ALB",
         "Entity": "Albania",
         "GDP per capita (output, multiple price benchmarks)": 12267.312,
         "GDP, PPP (constant 2017 international $)": 38178680000,
         "Life expectancy at birth (historical)": 79.2,
         "Year": 2018,
         "_deepnote_index_column": 28
        },
        {
         "Code": "DZA",
         "Entity": "Algeria",
         "GDP per capita (output, multiple price benchmarks)": 11773.642,
         "GDP, PPP (constant 2017 international $)": 491630950000,
         "Life expectancy at birth (historical)": 76.1,
         "Year": 2018,
         "_deepnote_index_column": 58
        },
        {
         "Code": "AGO",
         "Entity": "Angola",
         "GDP per capita (output, multiple price benchmarks)": 7588.662,
         "GDP, PPP (constant 2017 international $)": 215117920000,
         "Life expectancy at birth (historical)": 62.1,
         "Year": 2018,
         "_deepnote_index_column": 88
        },
        {
         "Code": "ATG",
         "Entity": "Antigua and Barbuda",
         "GDP per capita (output, multiple price benchmarks)": 16183.13,
         "GDP, PPP (constant 2017 international $)": 2023584300,
         "Life expectancy at birth (historical)": 78.5,
         "Year": 2018,
         "_deepnote_index_column": 118
        },
        {
         "Code": "ARG",
         "Entity": "Argentina",
         "GDP per capita (output, multiple price benchmarks)": 23018.549,
         "GDP, PPP (constant 2017 international $)": 1012127200000,
         "Life expectancy at birth (historical)": 77,
         "Year": 2018,
         "_deepnote_index_column": 148
        },
        {
         "Code": "ARM",
         "Entity": "Armenia",
         "GDP per capita (output, multiple price benchmarks)": 13588.856,
         "GDP, PPP (constant 2017 international $)": 37531710000,
         "Life expectancy at birth (historical)": 75.1,
         "Year": 2018,
         "_deepnote_index_column": 178
        },
        {
         "Code": "ABW",
         "Entity": "Aruba",
         "GDP per capita (output, multiple price benchmarks)": 32544.37,
         "GDP, PPP (constant 2017 international $)": 4313368600,
         "Life expectancy at birth (historical)": 76.1,
         "Year": 2018,
         "_deepnote_index_column": 208
        },
        {
         "Code": "AUS",
         "Entity": "Australia",
         "GDP per capita (output, multiple price benchmarks)": 54236.766,
         "GDP, PPP (constant 2017 international $)": 1224684200000,
         "Life expectancy at birth (historical)": 83.4,
         "Year": 2018,
         "_deepnote_index_column": 238
        },
        {
         "Code": "AUT",
         "Entity": "Austria",
         "GDP per capita (output, multiple price benchmarks)": 52968.19,
         "GDP, PPP (constant 2017 international $)": 488149580000,
         "Life expectancy at birth (historical)": 81.7,
         "Year": 2018,
         "_deepnote_index_column": 268
        },
        {
         "Code": "AZE",
         "Entity": "Azerbaijan",
         "GDP per capita (output, multiple price benchmarks)": 15542.556,
         "GDP, PPP (constant 2017 international $)": 141240100000,
         "Life expectancy at birth (historical)": 72.8,
         "Year": 2018,
         "_deepnote_index_column": 298
        }
       ]
      },
      "text/html": [
       "<div>\n",
       "<style scoped>\n",
       "    .dataframe tbody tr th:only-of-type {\n",
       "        vertical-align: middle;\n",
       "    }\n",
       "\n",
       "    .dataframe tbody tr th {\n",
       "        vertical-align: top;\n",
       "    }\n",
       "\n",
       "    .dataframe thead th {\n",
       "        text-align: right;\n",
       "    }\n",
       "</style>\n",
       "<table border=\"1\" class=\"dataframe\">\n",
       "  <thead>\n",
       "    <tr style=\"text-align: right;\">\n",
       "      <th></th>\n",
       "      <th>Entity</th>\n",
       "      <th>Code</th>\n",
       "      <th>Year</th>\n",
       "      <th>GDP per capita (output, multiple price benchmarks)</th>\n",
       "      <th>Life expectancy at birth (historical)</th>\n",
       "      <th>GDP, PPP (constant 2017 international $)</th>\n",
       "    </tr>\n",
       "  </thead>\n",
       "  <tbody>\n",
       "    <tr>\n",
       "      <th>28</th>\n",
       "      <td>Albania</td>\n",
       "      <td>ALB</td>\n",
       "      <td>2018</td>\n",
       "      <td>12267.3120</td>\n",
       "      <td>79.2</td>\n",
       "      <td>38178680000</td>\n",
       "    </tr>\n",
       "    <tr>\n",
       "      <th>58</th>\n",
       "      <td>Algeria</td>\n",
       "      <td>DZA</td>\n",
       "      <td>2018</td>\n",
       "      <td>11773.6420</td>\n",
       "      <td>76.1</td>\n",
       "      <td>491630950000</td>\n",
       "    </tr>\n",
       "    <tr>\n",
       "      <th>88</th>\n",
       "      <td>Angola</td>\n",
       "      <td>AGO</td>\n",
       "      <td>2018</td>\n",
       "      <td>7588.6620</td>\n",
       "      <td>62.1</td>\n",
       "      <td>215117920000</td>\n",
       "    </tr>\n",
       "    <tr>\n",
       "      <th>118</th>\n",
       "      <td>Antigua and Barbuda</td>\n",
       "      <td>ATG</td>\n",
       "      <td>2018</td>\n",
       "      <td>16183.1300</td>\n",
       "      <td>78.5</td>\n",
       "      <td>2023584300</td>\n",
       "    </tr>\n",
       "    <tr>\n",
       "      <th>148</th>\n",
       "      <td>Argentina</td>\n",
       "      <td>ARG</td>\n",
       "      <td>2018</td>\n",
       "      <td>23018.5490</td>\n",
       "      <td>77.0</td>\n",
       "      <td>1012127200000</td>\n",
       "    </tr>\n",
       "    <tr>\n",
       "      <th>...</th>\n",
       "      <td>...</td>\n",
       "      <td>...</td>\n",
       "      <td>...</td>\n",
       "      <td>...</td>\n",
       "      <td>...</td>\n",
       "      <td>...</td>\n",
       "    </tr>\n",
       "    <tr>\n",
       "      <th>4926</th>\n",
       "      <td>Uruguay</td>\n",
       "      <td>URY</td>\n",
       "      <td>2018</td>\n",
       "      <td>20458.2640</td>\n",
       "      <td>77.6</td>\n",
       "      <td>79454680000</td>\n",
       "    </tr>\n",
       "    <tr>\n",
       "      <th>4956</th>\n",
       "      <td>Uzbekistan</td>\n",
       "      <td>UZB</td>\n",
       "      <td>2018</td>\n",
       "      <td>12263.4240</td>\n",
       "      <td>71.1</td>\n",
       "      <td>233425600000</td>\n",
       "    </tr>\n",
       "    <tr>\n",
       "      <th>4986</th>\n",
       "      <td>Vietnam</td>\n",
       "      <td>VNM</td>\n",
       "      <td>2018</td>\n",
       "      <td>7217.9240</td>\n",
       "      <td>74.0</td>\n",
       "      <td>914595640000</td>\n",
       "    </tr>\n",
       "    <tr>\n",
       "      <th>5016</th>\n",
       "      <td>Zambia</td>\n",
       "      <td>ZMB</td>\n",
       "      <td>2018</td>\n",
       "      <td>3196.1765</td>\n",
       "      <td>62.3</td>\n",
       "      <td>61104857000</td>\n",
       "    </tr>\n",
       "    <tr>\n",
       "      <th>5046</th>\n",
       "      <td>Zimbabwe</td>\n",
       "      <td>ZWE</td>\n",
       "      <td>2018</td>\n",
       "      <td>3007.2370</td>\n",
       "      <td>61.4</td>\n",
       "      <td>36119544000</td>\n",
       "    </tr>\n",
       "  </tbody>\n",
       "</table>\n",
       "<p>175 rows × 6 columns</p>\n",
       "</div>"
      ],
      "text/plain": [
       "                   Entity Code  Year  \\\n",
       "28                Albania  ALB  2018   \n",
       "58                Algeria  DZA  2018   \n",
       "88                 Angola  AGO  2018   \n",
       "118   Antigua and Barbuda  ATG  2018   \n",
       "148             Argentina  ARG  2018   \n",
       "...                   ...  ...   ...   \n",
       "4926              Uruguay  URY  2018   \n",
       "4956           Uzbekistan  UZB  2018   \n",
       "4986              Vietnam  VNM  2018   \n",
       "5016               Zambia  ZMB  2018   \n",
       "5046             Zimbabwe  ZWE  2018   \n",
       "\n",
       "      GDP per capita (output, multiple price benchmarks)  \\\n",
       "28                                           12267.3120    \n",
       "58                                           11773.6420    \n",
       "88                                            7588.6620    \n",
       "118                                          16183.1300    \n",
       "148                                          23018.5490    \n",
       "...                                                 ...    \n",
       "4926                                         20458.2640    \n",
       "4956                                         12263.4240    \n",
       "4986                                          7217.9240    \n",
       "5016                                          3196.1765    \n",
       "5046                                          3007.2370    \n",
       "\n",
       "      Life expectancy at birth (historical)  \\\n",
       "28                                     79.2   \n",
       "58                                     76.1   \n",
       "88                                     62.1   \n",
       "118                                    78.5   \n",
       "148                                    77.0   \n",
       "...                                     ...   \n",
       "4926                                   77.6   \n",
       "4956                                   71.1   \n",
       "4986                                   74.0   \n",
       "5016                                   62.3   \n",
       "5046                                   61.4   \n",
       "\n",
       "      GDP, PPP (constant 2017 international $)  \n",
       "28                                 38178680000  \n",
       "58                                491630950000  \n",
       "88                                215117920000  \n",
       "118                                 2023584300  \n",
       "148                              1012127200000  \n",
       "...                                        ...  \n",
       "4926                               79454680000  \n",
       "4956                              233425600000  \n",
       "4986                              914595640000  \n",
       "5016                               61104857000  \n",
       "5046                               36119544000  \n",
       "\n",
       "[175 rows x 6 columns]"
      ]
     },
     "execution_count": 7,
     "metadata": {},
     "output_type": "execute_result"
    }
   ],
   "source": [
    "df_recent = df[df['Year'] == max(common_year)]\n",
    "df_recent"
   ]
  },
  {
   "cell_type": "markdown",
   "metadata": {
    "cell_id": "9246e5b84af0409cb9a26448b7cc985b",
    "deepnote_app_coordinates": {
     "h": 5,
     "w": 12,
     "x": 0,
     "y": 0
    },
    "deepnote_cell_type": "text-cell-h2",
    "formattedRanges": []
   },
   "source": [
    "## Data visualization: single year (2018)"
   ]
  },
  {
   "cell_type": "markdown",
   "metadata": {
    "cell_id": "67047bf74af9489cba93eb0551989b87",
    "deepnote_app_coordinates": {
     "h": 5,
     "w": 12,
     "x": 0,
     "y": 0
    },
    "deepnote_cell_type": "markdown"
   },
   "source": [
    "Here is a function that creates a scatter plot given the **x** and **y** axis and the label."
   ]
  },
  {
   "cell_type": "code",
   "execution_count": 8,
   "metadata": {
    "cell_id": "8ff5bbe6d7b24e03a6200714cce56c2e",
    "deepnote_app_coordinates": {
     "h": 5,
     "w": 12,
     "x": 0,
     "y": 0
    },
    "deepnote_app_is_code_hidden": false,
    "deepnote_cell_type": "code",
    "deepnote_to_be_reexecuted": false,
    "execution_millis": 61,
    "execution_start": 1693584860772,
    "source_hash": "dc4ef3e9"
   },
   "outputs": [],
   "source": [
    "def makeScatterPlot(xAxis, yAxis, lbl, title=''):\n",
    "    sns.scatterplot(x=xAxis, y=yAxis)\n",
    "    plt.title(title)"
   ]
  },
  {
   "cell_type": "markdown",
   "metadata": {
    "cell_id": "fbeeba0f81f047a198d673d5a58c4d4c",
    "deepnote_app_coordinates": {
     "h": 5,
     "w": 12,
     "x": 0,
     "y": 0
    },
    "deepnote_cell_type": "markdown"
   },
   "source": [
    "Now we can create a scatter plot of the dataframe where the **x** axis corresponds to the GDP per capita in USD dollars and the **y** axis corresponds to the life expectancy at birth in years."
   ]
  },
  {
   "cell_type": "code",
   "execution_count": 9,
   "metadata": {
    "cell_id": "8b45c8bfad4949f18fb03e2ce5a7be33",
    "deepnote_app_coordinates": {
     "h": 5,
     "w": 12,
     "x": 0,
     "y": 0
    },
    "deepnote_app_is_code_hidden": false,
    "deepnote_app_is_output_hidden": false,
    "deepnote_cell_type": "code",
    "deepnote_to_be_reexecuted": false,
    "execution_millis": 635,
    "execution_start": 1693584861298,
    "is_output_hidden": false,
    "source_hash": "17bdc6c3"
   },
   "outputs": [
    {
     "data": {
      "image/png": "[encoded data removed]",
      "text/plain": [
       "<Figure size 640x480 with 1 Axes>"
      ]
     },
     "metadata": {
      "image/png": {
       "height": 432,
       "width": 579
      }
     },
     "output_type": "display_data"
    }
   ],
   "source": [
    "\n",
    "makeScatterPlot(df_recent['GDP per capita (output, multiple price benchmarks)'], df_recent['Life expectancy at birth (historical)'], 'Life Expectancy vs GDP per capita in 2018')\n",
    "\n",
    "# Display the plot\n",
    "plt.show()"
   ]
  },
  {
   "cell_type": "markdown",
   "metadata": {
    "cell_id": "a39a8457aa88479585b30caab8a85f78",
    "deepnote_app_coordinates": {
     "h": 5,
     "w": 12,
     "x": 0,
     "y": 0
    },
    "deepnote_cell_type": "text-cell-h2",
    "formattedRanges": []
   },
   "source": [
    "## Questions"
   ]
  },
  {
   "cell_type": "markdown",
   "metadata": {
    "cell_id": "8c331119cd4d4b35a56397df089116b8",
    "deepnote_app_coordinates": {
     "h": 5,
     "w": 12,
     "x": 0,
     "y": 0
    },
    "deepnote_cell_type": "text-cell-h3",
    "formattedRanges": []
   },
   "source": [
    "### 1) Which countries have a life expectancy higher than one standard deviation above the mean?"
   ]
  },
  {
   "cell_type": "markdown",
   "metadata": {
    "cell_id": "818e4bdb9cb2408996713f1e744ffef7",
    "deepnote_app_coordinates": {
     "h": 5,
     "w": 12,
     "x": 0,
     "y": 0
    },
    "deepnote_cell_type": "markdown"
   },
   "source": [
    "In order to answer this question, we show graphically which countries are above the specified threshold, and then we list the nations.\n",
    "For that, we first had to calculate both the standard deviation and the average of the life expectancy feature to obtain their values."
   ]
  },
  {
   "cell_type": "code",
   "execution_count": 10,
   "metadata": {
    "cell_id": "3c7814751afe466faafe4d2ad6bdd2ac",
    "deepnote_app_coordinates": {
     "h": 5,
     "w": 12,
     "x": 0,
     "y": 0
    },
    "deepnote_app_is_code_hidden": false,
    "deepnote_cell_type": "code",
    "deepnote_to_be_reexecuted": false,
    "execution_millis": 163,
    "execution_start": 1693584861571,
    "source_hash": "f5b34eee"
   },
   "outputs": [
    {
     "name": "stdout",
     "output_type": "stream",
     "text": [
      "Average life expectancy: 72.84400000000001 years\n",
      "Life expectancy standard deviation: 7.623817488860045 years\n",
      "High life expectancy indicator: 80 years\n"
     ]
    }
   ],
   "source": [
    "# life_mean = int(df_recent['Life expectancy at birth (historical)'].mean())\n",
    "# life_std = int(df_recent['Life expectancy at birth (historical)'].std())\n",
    "life_mean = df_recent['Life expectancy at birth (historical)'].mean()\n",
    "life_std = df_recent['Life expectancy at birth (historical)'].std()\n",
    "life_high = int(life_mean + life_std)\n",
    "\n",
    "\n",
    "print(f'Average life expectancy: {life_mean} years')\n",
    "print(f'Life expectancy standard deviation: {life_std} years')\n",
    "print(f'High life expectancy indicator: {life_high} years')"
   ]
  },
  {
   "cell_type": "markdown",
   "metadata": {
    "cell_id": "8fde199c88674eeb8189ec08056eedf3",
    "deepnote_app_coordinates": {
     "h": 2,
     "w": 8,
     "x": 0,
     "y": 0
    },
    "deepnote_cell_type": "text-cell-p",
    "formattedRanges": []
   },
   "source": [
    "To visualize the countries that actually have high life expectancy, we add to the previous scatter plot a dashed red line that refers to our high life expectancy indicator."
   ]
  },
  {
   "cell_type": "code",
   "execution_count": 11,
   "metadata": {
    "cell_id": "ebb936f87bd549519c499efcf6fc1dd5",
    "deepnote_app_coordinates": {
     "h": 5,
     "w": 12,
     "x": 0,
     "y": 0
    },
    "deepnote_app_is_code_hidden": false,
    "deepnote_cell_type": "code",
    "deepnote_to_be_reexecuted": false,
    "execution_millis": 1095,
    "execution_start": 1693584861587,
    "source_hash": "cc3f296"
   },
   "outputs": [
    {
     "data": {
      "image/png": "[encoded data removed]",
      "text/plain": [
       "<Figure size 640x480 with 1 Axes>"
      ]
     },
     "metadata": {
      "image/png": {
       "height": 432,
       "width": 579
      }
     },
     "output_type": "display_data"
    }
   ],
   "source": [
    "makeScatterPlot(df_recent['GDP per capita (output, multiple price benchmarks)'], df_recent['Life expectancy at birth (historical)'], 'Life Expectancy vs GDP per capita in 2018')\n",
    "plt.axhline(y=df_recent['Life expectancy at birth (historical)'].std() + df_recent['Life expectancy at birth (historical)'].mean(), color='red', linestyle='--', label='high life expectancy')\n",
    "plt.legend()\n",
    "plt.show()"
   ]
  },
  {
   "cell_type": "code",
   "execution_count": 12,
   "metadata": {
    "cell_id": "2fcf9d2a49cf4052a796b72cdeadff3d",
    "deepnote_app_coordinates": {
     "h": 5,
     "w": 12,
     "x": 0,
     "y": 0
    },
    "deepnote_app_is_code_hidden": false,
    "deepnote_cell_type": "code",
    "deepnote_to_be_reexecuted": false,
    "execution_millis": 86,
    "execution_start": 1693584862351,
    "source_hash": "44a5d0d9"
   },
   "outputs": [
    {
     "name": "stdout",
     "output_type": "stream",
     "text": [
      "32 countries with high life expectancy:\n",
      "['Australia' 'Austria' 'Belgium' 'Bermuda' 'Canada' 'Cyprus' 'Denmark'\n",
      " 'Finland' 'France' 'Germany' 'Greece' 'Hong Kong' 'Iceland' 'Ireland'\n",
      " 'Israel' 'Italy' 'Japan' 'Luxembourg' 'Macao' 'Malta' 'Netherlands'\n",
      " 'New Zealand' 'Norway' 'Portugal' 'Qatar' 'Singapore' 'Slovenia'\n",
      " 'South Korea' 'Spain' 'Sweden' 'Switzerland' 'United Kingdom']\n"
     ]
    }
   ],
   "source": [
    "countries = df_recent[df_recent['Life expectancy at birth (historical)'] > life_std + life_mean]['Entity'].unique()\n",
    "print(f'{len(countries)} countries with high life expectancy:')\n",
    "print(countries)"
   ]
  },
  {
   "cell_type": "markdown",
   "metadata": {
    "cell_id": "c397bb3e41bd48cc9d11e7491d7ff72b",
    "deepnote_app_coordinates": {
     "h": 5,
     "w": 12,
     "x": 0,
     "y": 0
    },
    "deepnote_cell_type": "markdown"
   },
   "source": [
    "There are 32 countries with life expectancy higher than one standard deviation above the mean. These countries are:\n",
    "Australia, Austria, Belgium, Bermuda, Canada, Cyprus, Denmark, Finland, France, Germany, Greece, Hong Kong, Iceland, Ireland, Israel, Italy, Japan, Luxembourg, Macao, Malta, Netherlands, New Zealand, Norway, Portugal, Qatar, Singapore, Slovenia, South Korea, Spain, Sweden, Switzerland, and United Kingdom.\n"
   ]
  },
  {
   "cell_type": "markdown",
   "metadata": {
    "cell_id": "fa1a32f8b0c64cc9b88f8234a0425ac0",
    "deepnote_app_coordinates": {
     "h": 5,
     "w": 12,
     "x": 0,
     "y": 0
    },
    "deepnote_cell_type": "text-cell-h3",
    "formattedRanges": []
   },
   "source": [
    "### 2) Which countries have high life expectancy but have low GDP (note the difference between GDP and GDP per capita)? Motivate how you have chosen to define “high” and “low.”"
   ]
  },
  {
   "cell_type": "markdown",
   "metadata": {
    "cell_id": "d592b9d0346543e5943e14e8f945fa7a",
    "deepnote_app_coordinates": {
     "h": 2,
     "w": 8,
     "x": 0,
     "y": 0
    },
    "deepnote_cell_type": "text-cell-p",
    "formattedRanges": []
   },
   "source": [
    "Before answering the question, we will state what we mean for Low/High GDP, Low/High Life Expectancy."
   ]
  },
  {
   "cell_type": "markdown",
   "metadata": {
    "cell_id": "fb33000b3ae749fc860058b6ecbb7e47",
    "deepnote_app_coordinates": {
     "h": 2,
     "w": 8,
     "x": 0,
     "y": 0
    },
    "deepnote_cell_type": "text-cell-bullet",
    "formattedRanges": [
     {
      "fromCodePoint": 0,
      "marks": {
       "bold": true
      },
      "toCodePoint": 7,
      "type": "marks"
     }
    ]
   },
   "source": [
    "- Low GDP: less than the median of GDP in every country. Did not make sense to use standard deviation in this case because the countries' GDP's vary way too much."
   ]
  },
  {
   "cell_type": "markdown",
   "metadata": {
    "cell_id": "3243510c69a8451abcfe73cbcc69c655",
    "deepnote_app_coordinates": {
     "h": 2,
     "w": 8,
     "x": 0,
     "y": 0
    },
    "deepnote_cell_type": "text-cell-bullet",
    "formattedRanges": [
     {
      "fromCodePoint": 0,
      "marks": {
       "bold": true
      },
      "toCodePoint": 8,
      "type": "marks"
     }
    ]
   },
   "source": [
    "- High GDP: more than the median of GDP in every country."
   ]
  },
  {
   "cell_type": "markdown",
   "metadata": {
    "cell_id": "69fc8028676e4cad942e2c7c5eccc70d",
    "deepnote_app_coordinates": {
     "h": 2,
     "w": 8,
     "x": 0,
     "y": 0
    },
    "deepnote_cell_type": "text-cell-bullet",
    "formattedRanges": [
     {
      "fromCodePoint": 0,
      "marks": {
       "bold": true
      },
      "toCodePoint": 19,
      "type": "marks"
     }
    ]
   },
   "source": [
    "- Low Life Expectancy: less than one standard deviation below the mean of the value in every country."
   ]
  },
  {
   "cell_type": "markdown",
   "metadata": {
    "cell_id": "1150a42dec0843fdbd9a6d6c99800751",
    "deepnote_app_coordinates": {
     "h": 2,
     "w": 8,
     "x": 0,
     "y": 0
    },
    "deepnote_cell_type": "text-cell-bullet",
    "formattedRanges": [
     {
      "fromCodePoint": 0,
      "marks": {
       "bold": true
      },
      "toCodePoint": 20,
      "type": "marks"
     }
    ]
   },
   "source": [
    "- High Life Expectancy: more than one standard deviation above the mean of the value in every country."
   ]
  },
  {
   "cell_type": "markdown",
   "metadata": {
    "cell_id": "135449def4fe4ecaa62be3af1cff2399",
    "deepnote_app_coordinates": {
     "h": 2,
     "w": 8,
     "x": 0,
     "y": 0
    },
    "deepnote_cell_type": "text-cell-p",
    "formattedRanges": []
   },
   "source": [
    "These values will be visualized in the first scatter plot, to see how countries are divided based on these indicators: "
   ]
  },
  {
   "cell_type": "code",
   "execution_count": 13,
   "metadata": {
    "cell_id": "64c6cc9e02a74231b507a4675e4cadd2",
    "deepnote_app_coordinates": {
     "h": 5,
     "w": 12,
     "x": 0,
     "y": 0
    },
    "deepnote_app_is_code_hidden": false,
    "deepnote_cell_type": "code",
    "deepnote_to_be_reexecuted": false,
    "execution_millis": 1162,
    "execution_start": 1693584862396,
    "source_hash": "7acdc477"
   },
   "outputs": [
    {
     "data": {
      "image/png": "[encoded data removed]",
      "text/plain": [
       "<Figure size 640x480 with 1 Axes>"
      ]
     },
     "metadata": {
      "image/png": {
       "height": 432,
       "width": 562
      }
     },
     "output_type": "display_data"
    }
   ],
   "source": [
    "makeScatterPlot(df_recent['GDP, PPP (constant 2017 international $)'], df_recent['Life expectancy at birth (historical)'], 'Life Expectancy vs GDP in 2018')\n",
    "plt.axvline(x=df_recent['GDP, PPP (constant 2017 international $)'].mean(), color = 'green', linestyle='--', label = 'high GDP')\n",
    "plt.axhline(y=df_recent['Life expectancy at birth (historical)'].std() + df_recent['Life expectancy at birth (historical)'].mean(), color='red', linestyle='--', label='high life expectancy')\n",
    "plt.axhline(y=df_recent['Life expectancy at birth (historical)'].mean() - df_recent['Life expectancy at birth (historical)'].std(), color='blue', linestyle='--', label='low life expectancy')\n",
    "plt.legend()\n",
    "plt.show()"
   ]
  },
  {
   "cell_type": "markdown",
   "metadata": {
    "cell_id": "f0bf594465a3417dbb4db84e1100d752",
    "deepnote_app_coordinates": {
     "h": 2,
     "w": 8,
     "x": 0,
     "y": 0
    },
    "deepnote_cell_type": "text-cell-p",
    "formattedRanges": []
   },
   "source": [
    "The obtained scatter plot is divided into 6 quadrants:"
   ]
  },
  {
   "cell_type": "markdown",
   "metadata": {
    "cell_id": "5f4cac2594ca4a8d950b4d1307149f88",
    "deepnote_app_coordinates": {
     "h": 5,
     "w": 12,
     "x": 0,
     "y": 0
    },
    "deepnote_cell_type": "markdown"
   },
   "source": [
    "- *Quadrants above the red line*\n",
    "    - Left quadrant: High Life Expectancy & low GDP\n",
    "    - Right quadrant: High Life Expectancy & High GDP\n",
    "- *Quadrants between red and blue line*\n",
    "    - Left quadrant: Life Expectancy inside normal threshold & High GDP\n",
    "    - Right quadrant: Life Expectancy inside normal threshold & High GDP\n",
    "- *Quadrants below blue line*\n",
    "    - Left quadrant: Low Life Expectancy & Low GDP\n",
    "    - Right quadrant: Low Life Expectancy & High GDP"
   ]
  },
  {
   "cell_type": "code",
   "execution_count": 14,
   "metadata": {
    "cell_id": "ee2c6ee758164656a6e4a5e8b5e21324",
    "deepnote_app_coordinates": {
     "h": 5,
     "w": 12,
     "x": 0,
     "y": 0
    },
    "deepnote_app_is_code_hidden": false,
    "deepnote_cell_type": "code",
    "deepnote_to_be_reexecuted": false,
    "execution_millis": 35,
    "execution_start": 1693584863189,
    "source_hash": "9e13f4b5"
   },
   "outputs": [
    {
     "name": "stdout",
     "output_type": "stream",
     "text": [
      "7 countries with high life expectancy and low GDP.\n",
      "['Bermuda' 'Cyprus' 'Iceland' 'Luxembourg' 'Macao' 'Malta' 'Slovenia']\n"
     ]
    }
   ],
   "source": [
    "gdp = df_recent['GDP, PPP (constant 2017 international $)'].median()\n",
    "\n",
    "high_life_exp = df_recent[df_recent['Life expectancy at birth (historical)'] > life_std + life_mean]\n",
    "high_life_low_gdp = high_life_exp[high_life_exp['GDP, PPP (constant 2017 international $)'] < gdp]\n",
    "\n",
    "\n",
    "print(f'{len(high_life_low_gdp)} countries with high life expectancy and low GDP.')\n",
    "print(high_life_low_gdp['Entity'].unique())"
   ]
  },
  {
   "cell_type": "markdown",
   "metadata": {
    "cell_id": "cce73952a9ae4b789a57e640268079e3",
    "deepnote_app_coordinates": {
     "h": 5,
     "w": 12,
     "x": 0,
     "y": 0
    },
    "deepnote_cell_type": "markdown"
   },
   "source": [
    "The results show that there are **7** countries with high life expectancy and low GDP which are:\n",
    "`Bermuda, Cyprus, Iceland, Luxembourg, Macao, Malta and Slovenia`\n",
    "\n",
    "To answer this question properly we had to play around with the GDP indicator. We chose to use the median of the GDP as it gaves us results that made more sense. Previously we were using its mean as a reference point, although some countries which we consider to have high GDP, such as Denmark or Sweden,  were being included among the low GDP ones.\n",
    "\n",
    "On the other hand, some of the countries that are on this list, like Luxembourg or Iceland are not considered to have low GDP, but it could make sense that they are still included in the low GDP set as the GDP also depends on the number of the population. Luxembourg, for instance, is a small country, therefore, this could be a reason why it is not considered to have high GDP.\n"
   ]
  },
  {
   "cell_type": "markdown",
   "metadata": {
    "cell_id": "7cf7a6877f5f450089139a56d682e5ec",
    "deepnote_app_coordinates": {
     "h": 5,
     "w": 12,
     "x": 0,
     "y": 0
    },
    "deepnote_cell_type": "text-cell-h3",
    "formattedRanges": []
   },
   "source": [
    "### 3) Does every strong economy (normally indicated by GDP) have high life expectancy?"
   ]
  },
  {
   "cell_type": "code",
   "execution_count": 15,
   "metadata": {
    "cell_id": "7095394144fc4b85b587c1f7dfca067f",
    "deepnote_app_coordinates": {
     "h": 5,
     "w": 12,
     "x": 0,
     "y": 0
    },
    "deepnote_app_is_code_hidden": false,
    "deepnote_cell_type": "code",
    "deepnote_to_be_reexecuted": false,
    "execution_millis": 60,
    "execution_start": 1693584863214,
    "source_hash": "7b940966"
   },
   "outputs": [
    {
     "name": "stdout",
     "output_type": "stream",
     "text": [
      "62 countries with low life expectancy and High GDP:\n",
      "['Algeria' 'Angola' 'Argentina' 'Azerbaijan' 'Bangladesh' 'Belarus'\n",
      " 'Bolivia' 'Brazil' 'Bulgaria' 'Chile' 'China' 'Colombia' 'Costa Rica'\n",
      " \"Cote d'Ivoire\" 'Croatia' 'Czechia' 'Dominican Republic' 'Ecuador'\n",
      " 'Egypt' 'Ethiopia' 'Ghana' 'Guatemala' 'Hungary' 'India' 'Indonesia'\n",
      " 'Iran' 'Iraq' 'Jordan' 'Kazakhstan' 'Kenya' 'Kuwait' 'Lebanon'\n",
      " 'Lithuania' 'Malaysia' 'Mexico' 'Morocco' 'Myanmar' 'Nepal' 'Nigeria'\n",
      " 'Oman' 'Pakistan' 'Panama' 'Peru' 'Philippines' 'Poland' 'Romania'\n",
      " 'Russia' 'Saudi Arabia' 'Serbia' 'Slovakia' 'South Africa' 'Sri Lanka'\n",
      " 'Sudan' 'Tanzania' 'Thailand' 'Tunisia' 'Turkey' 'Ukraine'\n",
      " 'United Arab Emirates' 'United States' 'Uzbekistan' 'Vietnam']\n"
     ]
    }
   ],
   "source": [
    "low_life_exp = df_recent[df_recent['Life expectancy at birth (historical)'] < life_mean + life_std]\n",
    "high_gdp_low_life=low_life_exp[low_life_exp['GDP, PPP (constant 2017 international $)'] > gdp]\n",
    "print(f'{len(high_gdp_low_life)} countries with low life expectancy and High GDP:')\n",
    "print(high_gdp_low_life['Entity'].unique())"
   ]
  },
  {
   "cell_type": "markdown",
   "metadata": {
    "cell_id": "3c07e66804704fe2918c911222efedd3",
    "deepnote_app_coordinates": {
     "h": 5,
     "w": 12,
     "x": 0,
     "y": 0
    },
    "deepnote_cell_type": "markdown"
   },
   "source": [
    "As indicated by the scatter plot shown in question 2, there is a great number of countries that belong to the bottom right quadrant, therefore, not every strong economy has high life expectancy when using GDP as an indicator. There are **62** countries that are considered to have a strong economy yet are below the life expectancy lower bound."
   ]
  },
  {
   "cell_type": "markdown",
   "metadata": {
    "cell_id": "c3987a57f93046e693702339cbdef5c4",
    "deepnote_app_coordinates": {
     "h": 5,
     "w": 12,
     "x": 0,
     "y": 0
    },
    "deepnote_cell_type": "text-cell-h3",
    "formattedRanges": []
   },
   "source": [
    "### 4) Related to the above question (question 3), what happens if you use GDP per capita as an indicator of a strong economy as opposed to GDP alone? Explain the results you obtain through this analysis, and discuss any insights you get from comparing these results to question 3."
   ]
  },
  {
   "cell_type": "code",
   "execution_count": 16,
   "metadata": {
    "cell_id": "73ce1742850345b99f6288bd56c76c7b",
    "deepnote_app_coordinates": {
     "h": 5,
     "w": 12,
     "x": 0,
     "y": 0
    },
    "deepnote_app_is_code_hidden": false,
    "deepnote_cell_type": "code",
    "deepnote_to_be_reexecuted": false,
    "execution_millis": 1676,
    "execution_start": 1693584863248,
    "source_hash": "7335b50a"
   },
   "outputs": [
    {
     "data": {
      "image/png": "[encoded data removed]",
      "text/plain": [
       "<Figure size 1200x600 with 2 Axes>"
      ]
     },
     "metadata": {
      "image/png": {
       "height": 590,
       "width": 1189
      }
     },
     "output_type": "display_data"
    },
    {
     "name": "stdout",
     "output_type": "stream",
     "text": [
      "33 countries with low life expectancy and High GDP per capita.\n",
      "62 countries with low life expectancy and High GDP.\n",
      "\n",
      "\n",
      "29 less countries with a strong economy have low life expectancy when using GDP per capita instead of GDP.\n"
     ]
    }
   ],
   "source": [
    "# Create a figure with a grid of 1 row and 2 columns\n",
    "fig, axs = plt.subplots(1, 2, figsize=(12, 6))\n",
    "\n",
    "# First subplot\n",
    "axs[0].scatter(df_recent['GDP per capita (output, multiple price benchmarks)'],\n",
    "               df_recent['Life expectancy at birth (historical)'])\n",
    "axs[0].axvline(x=df_recent['GDP per capita (output, multiple price benchmarks)'].mean(), color='green', linestyle='--', label='high GDP per capita')\n",
    "axs[0].axhline(y=df_recent['Life expectancy at birth (historical)'].std() + df_recent['Life expectancy at birth (historical)'].mean(), color='red', linestyle='--', label='high life expectancy')\n",
    "axs[0].axhline(y=df_recent['Life expectancy at birth (historical)'].mean() - df_recent['Life expectancy at birth (historical)'].std(), color='blue', linestyle='--', label='low life expectancy')\n",
    "axs[0].set_title('Life Expectancy vs GDP per capita in 2018')\n",
    "axs[0].set_xlabel('GDP per capita (output, multiple price benchmarks)')\n",
    "axs[0].set_ylabel('Life expectancy at birth (historical)')\n",
    "axs[0].legend()\n",
    "\n",
    "# Second subplot\n",
    "axs[1].scatter(df_recent['GDP, PPP (constant 2017 international $)'],\n",
    "               df_recent['Life expectancy at birth (historical)'])\n",
    "axs[1].axvline(x=df_recent['GDP, PPP (constant 2017 international $)'].mean(), color='green', linestyle='--', label='high GDP')\n",
    "axs[1].axhline(y=df_recent['Life expectancy at birth (historical)'].std() + df_recent['Life expectancy at birth (historical)'].mean(), color='red', linestyle='--', label='high life expectancy')\n",
    "axs[1].axhline(y=df_recent['Life expectancy at birth (historical)'].mean() - df_recent['Life expectancy at birth (historical)'].std(), color='blue', linestyle='--', label='low life expectancy')\n",
    "axs[1].set_title('Life Expectancy vs GDP in 2018')\n",
    "axs[1].set_xlabel('GDP, PPP (constant 2017 international $)')\n",
    "axs[1].set_ylabel('Life expectancy at birth (historical)')\n",
    "axs[1].legend()\n",
    "\n",
    "# Adjust layout\n",
    "plt.tight_layout()\n",
    "plt.show()\n",
    "gdp_capita = df_recent['GDP per capita (output, multiple price benchmarks)'].mean()\n",
    "low_life_exp = df_recent[df_recent['Life expectancy at birth (historical)'] < life_mean + life_std]\n",
    "low_life_high_gdp_per_capita = low_life_exp[low_life_exp['GDP per capita (output, multiple price benchmarks)'] > gdp_capita]\n",
    "\n",
    "print(f'{len(low_life_high_gdp_per_capita)} countries with low life expectancy and High GDP per capita.')\n",
    "#print(low_life_high_gdp_per_capita['Entity'].unique())\n",
    "print(f'{len(high_gdp_low_life)} countries with low life expectancy and High GDP.')\n",
    "print('\\n')\n",
    "print(f'{len(high_gdp_low_life)-len(low_life_high_gdp_per_capita)} less countries with a strong economy have low life expectancy when using GDP per capita instead of GDP.')"
   ]
  },
  {
   "cell_type": "markdown",
   "metadata": {
    "cell_id": "27caa70bfd314aea84bf160615b221b5",
    "deepnote_app_coordinates": {
     "h": 2,
     "w": 8,
     "x": 0,
     "y": 0
    },
    "deepnote_cell_type": "text-cell-p",
    "formattedRanges": []
   },
   "source": [
    "If we use GDP per capita as an indicator of a strong economy we do obtain different results opposed to using GDP itself. Less countries with strong economies are considered to have low life expectancy, when using GDP per capita as an indicator instead of GDP. Here are some reasons that could explain the differences obtained:"
   ]
  },
  {
   "cell_type": "markdown",
   "metadata": {
    "cell_id": "3f56e7dfdb8947bab4dbea17efe24532",
    "deepnote_app_coordinates": {
     "h": 2,
     "w": 8,
     "x": 0,
     "y": 0
    },
    "deepnote_cell_type": "text-cell-bullet",
    "formattedRanges": []
   },
   "source": [
    "- A high GDP could be the result of a large population and not necessarily a wealthy one. Therefore, countries with low GDP per capita and low life expectancy can have high GDP."
   ]
  },
  {
   "cell_type": "markdown",
   "metadata": {
    "cell_id": "8edf5e897fb64ed1917e0e5a7d4ca5cf",
    "deepnote_app_coordinates": {
     "h": 2,
     "w": 8,
     "x": 0,
     "y": 0
    },
    "deepnote_cell_type": "text-cell-bullet",
    "formattedRanges": []
   },
   "source": [
    "- Normally, GDP is a better measure to indicate the wealth of a whole country and not the well-being. In this case, well-being can be reffered to as life expectancy of the population itself."
   ]
  },
  {
   "cell_type": "markdown",
   "metadata": {
    "cell_id": "efdcaeb74c34430eb6ade1aeb4d226b6",
    "deepnote_app_coordinates": {
     "h": 5,
     "w": 12,
     "x": 0,
     "y": 0
    },
    "deepnote_cell_type": "text-cell-h2",
    "formattedRanges": []
   },
   "source": [
    "## References"
   ]
  },
  {
   "cell_type": "markdown",
   "metadata": {
    "cell_id": "9408074f650f461383e7809024442005",
    "deepnote_app_coordinates": {
     "h": 5,
     "w": 12,
     "x": 0,
     "y": 0
    },
    "deepnote_cell_type": "markdown"
   },
   "source": [
    "[1] Max Roser, Pablo Arriagada, Joe Hasell, Hannah Ritchie and Esteban Ortiz-Ospina (2023) - \"Economic Growth\". Published online at OurWorldInData.org. Retrieved from: 'https://ourworldindata.org/economic-growth' [Online Resource]"
   ]
  },
  {
   "cell_type": "markdown",
   "metadata": {
    "cell_id": "a1df38d48f4543ddad81daab88760cfb",
    "deepnote_app_coordinates": {
     "h": 5,
     "w": 12,
     "x": 0,
     "y": 0
    },
    "deepnote_cell_type": "markdown"
   },
   "source": [
    "[2] Max Roser, Esteban Ortiz-Ospina and Hannah Ritchie (2013) - \"Life Expectancy\". Published online at OurWorldInData.org. Retrieved from: 'https://ourworldindata.org/life-expectancy' [Online Resource]"
   ]
  }
 ],
 "metadata": {
  "deepnote": {},
  "deepnote_app_hide_all_code_blocks_enabled": false,
  "deepnote_app_layout": "powerful-article",
  "deepnote_app_table_of_contents_enabled": true,
  "deepnote_app_width": "standard",
  "deepnote_execution_queue": [],
  "deepnote_full_width": false,
  "deepnote_notebook_id": "d26a3ad5390c44b7be779c87692ffbd3",
  "deepnote_persisted_session": {
   "createdAt": "2023-09-01T15:31:45.968Z"
  },
  "kernelspec": {
   "display_name": "Python 3 (ipykernel)",
   "language": "python",
   "name": "python3"
  },
  "language_info": {
   "codemirror_mode": {
    "name": "ipython",
    "version": 3
   },
   "file_extension": ".py",
   "mimetype": "text/x-python",
   "name": "python",
   "nbconvert_exporter": "python",
   "pygments_lexer": "ipython3",
   "version": "3.11.5"
  },
  "vscode": {
   "interpreter": {
    "hash": "55a254bb32391f07d2b66b3e7d35e22f8a3e92ba4d975664238fc05ad2b3d3a3"
   }
  }
 },
 "nbformat": 4,
 "nbformat_minor": 4
}
