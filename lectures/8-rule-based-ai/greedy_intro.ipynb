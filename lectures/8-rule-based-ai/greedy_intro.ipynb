{
 "cells": [
  {
   "cell_type": "markdown",
   "metadata": {},
   "source": [
    "# Greedy search"
   ]
  },
  {
   "cell_type": "markdown",
   "metadata": {},
   "source": [
    "Based on [this](https://github.com/chitholian/AI-Search-Algorithms)."
   ]
  },
  {
   "cell_type": "code",
   "execution_count": 2,
   "metadata": {},
   "outputs": [],
   "source": [
    "from queue import heappop, heappush\n",
    "from math import inf"
   ]
  },
  {
   "cell_type": "markdown",
   "metadata": {},
   "source": [
    "## Graph class"
   ]
  },
  {
   "cell_type": "code",
   "execution_count": 3,
   "metadata": {},
   "outputs": [],
   "source": [
    "class Graph:\n",
    "    def __init__(self, directed=True):\n",
    "        self.edges = {}\n",
    "        self.huristics = {}\n",
    "        self.directed = directed\n",
    "\n",
    "    def add_edge(self, node1, node2, cost = 1, __reversed=False):\n",
    "        try: neighbors = self.edges[node1]\n",
    "        except KeyError: neighbors = {}\n",
    "        neighbors[node2] = cost\n",
    "        self.edges[node1] = neighbors\n",
    "        if not self.directed and not __reversed: self.add_edge(node2, node1, cost, True)\n",
    "\n",
    "    def set_huristics(self, huristics={}):\n",
    "        self.huristics = huristics\n",
    "\n",
    "    def neighbors(self, node):\n",
    "        try: return self.edges[node]\n",
    "        except KeyError: return []\n",
    "\n",
    "    def cost(self, node1, node2):\n",
    "        try: return self.edges[node1][node2]\n",
    "        except: return inf\n",
    "\n",
    "\n",
    "    def greedy_search(self, start, goal):\n",
    "        found, fringe, visited, came_from, cost_so_far = False, [(self.huristics[start], start)], set([start]), {start: None}, {start: 0}\n",
    "        print('{:11s} | {}'.format('Expand Node', 'Fringe'))\n",
    "        print('--------------------')\n",
    "        print('{:11s} | {}'.format('-', str(fringe[0])))\n",
    "        while not found and len(fringe):\n",
    "            _, current = heappop(fringe)\n",
    "            print('{:11s}'.format(current), end=' | ')\n",
    "            if current == goal: found = True; break\n",
    "            for node in self.neighbors(current):\n",
    "                new_cost = cost_so_far[current] + self.cost(current, node)\n",
    "                if node not in visited or cost_so_far[node] > new_cost:\n",
    "                    visited.add(node); came_from[node] = current; cost_so_far[node] = new_cost\n",
    "                    heappush(fringe, (self.huristics[node], node))\n",
    "            print(', '.join([str(n) for n in fringe]))\n",
    "        if found: print(); return came_from, cost_so_far[goal]\n",
    "        else: print('No path from {} to {}'.format(start, goal)); return None, inf\n",
    "\n",
    "    @staticmethod\n",
    "    def print_path(came_from, goal):\n",
    "        parent = came_from[goal]\n",
    "        if parent:\n",
    "            Graph.print_path(came_from, parent)\n",
    "        else: print(goal, end='');return\n",
    "        print(' =>', goal, end='')\n",
    "\n",
    "\n",
    "    def __str__(self):\n",
    "        return str(self.edges)"
   ]
  },
  {
   "cell_type": "markdown",
   "metadata": {},
   "source": [
    "## Graph "
   ]
  },
  {
   "cell_type": "code",
   "execution_count": 4,
   "metadata": {},
   "outputs": [],
   "source": [
    "graph = Graph(directed=True)\n",
    "graph.add_edge('A', 'B', 4)\n",
    "graph.add_edge('A', 'C', 1)\n",
    "graph.add_edge('B', 'D', 3)\n",
    "graph.add_edge('B', 'E', 8)\n",
    "graph.add_edge('C', 'C', 0)\n",
    "graph.add_edge('C', 'D', 7)\n",
    "graph.add_edge('C', 'F', 6)\n",
    "graph.add_edge('D', 'C', 2)\n",
    "graph.add_edge('D', 'E', 4)\n",
    "graph.add_edge('E', 'G', 2)\n",
    "graph.add_edge('F', 'G', 8)\n",
    "\n",
    "graph.set_huristics({'A': 8, 'B': 8, 'C': 6, 'D': 5, 'E': 1, 'F': 4, 'G': 0})\n",
    "\n",
    "start, goal = 'A', 'G'"
   ]
  },
  {
   "cell_type": "markdown",
   "metadata": {},
   "source": [
    "# Run it"
   ]
  },
  {
   "cell_type": "code",
   "execution_count": 5,
   "metadata": {},
   "outputs": [
    {
     "name": "stdout",
     "output_type": "stream",
     "text": [
      "Expand Node | Fringe\n",
      "--------------------\n",
      "-           | (8, 'A')\n",
      "A           | (6, 'C'), (8, 'B')\n",
      "C           | (4, 'F'), (8, 'B'), (5, 'D')\n",
      "F           | (0, 'G'), (8, 'B'), (5, 'D')\n",
      "G           | \n",
      "Path: A => C => F => G\n",
      "Cost: 15\n"
     ]
    }
   ],
   "source": [
    "traced_path, cost = graph.greedy_search(start, goal)\n",
    "if (traced_path): print('Path:', end=' '); Graph.print_path(traced_path, goal); print('\\nCost:', cost)"
   ]
  },
  {
   "cell_type": "code",
   "execution_count": null,
   "metadata": {},
   "outputs": [],
   "source": []
  },
  {
   "cell_type": "code",
   "execution_count": null,
   "metadata": {},
   "outputs": [],
   "source": []
  }
 ],
 "metadata": {
  "kernelspec": {
   "display_name": "Python 3 (ipykernel)",
   "language": "python",
   "name": "python3"
  },
  "language_info": {
   "codemirror_mode": {
    "name": "ipython",
    "version": 3
   },
   "file_extension": ".py",
   "mimetype": "text/x-python",
   "name": "python",
   "nbconvert_exporter": "python",
   "pygments_lexer": "ipython3",
   "version": "3.9.7"
  }
 },
 "nbformat": 4,
 "nbformat_minor": 4
}
